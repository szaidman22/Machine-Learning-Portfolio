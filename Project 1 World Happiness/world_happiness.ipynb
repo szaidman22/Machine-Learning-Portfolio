{
  "nbformat": 4,
  "nbformat_minor": 0,
  "metadata": {
    "colab": {
      "provenance": [],
      "authorship_tag": "ABX9TyOJHagoH+ACurs7uMcsvESQ"
    },
    "kernelspec": {
      "name": "python3",
      "display_name": "Python 3"
    },
    "language_info": {
      "name": "python"
    }
  },
  "cells": [
    {
      "cell_type": "markdown",
      "source": [
        "# Advanced Machine Learning Assignment 1: Predicting World Happiness\n",
        "## Sofia Zaidman\n",
        "## 2/6/23\n",
        "### https://github.com/szaidman22/AdvancedML_WorldHappiness"
      ],
      "metadata": {
        "id": "KUf7wiepq0ER"
      }
    },
    {
      "cell_type": "markdown",
      "source": [
        "# Loading data"
      ],
      "metadata": {
        "id": "Mrax7fGtQBsa"
      }
    },
    {
      "cell_type": "code",
      "execution_count": 1,
      "metadata": {
        "id": "k8LD72RYZbHP"
      },
      "outputs": [],
      "source": [
        "#Get competition data from course folder and unzip\n",
        "# importing the zipfile module\n",
        "from zipfile import ZipFile\n",
        "  \n",
        "# loading the temp.zip and creating a zip object\n",
        "with ZipFile(\"world_happiness_competition_data.zip\", 'r') as zObject:\n",
        "  \n",
        "    # Extracting all the members of the zip \n",
        "    # into a specific location.\n",
        "    zObject.extractall()"
      ]
    },
    {
      "cell_type": "code",
      "source": [
        "# Load data\n",
        "import pandas as pd\n",
        "X_train = pd.read_csv('world_happiness_competition_data/X_train.csv')\n",
        "X_test = pd.read_csv('world_happiness_competition_data/X_test.csv')\n",
        "y_train = pd.read_csv('world_happiness_competition_data/y_train.csv')\n",
        "y_train_labels = y_train.idxmax(axis=1)\n",
        "\n",
        "X_train.head()"
      ],
      "metadata": {
        "colab": {
          "base_uri": "https://localhost:8080/",
          "height": 206
        },
        "id": "Llt6z1tjZqBO",
        "outputId": "2801e4c0-e534-4d99-a4db-7a7b97cb710a"
      },
      "execution_count": 2,
      "outputs": [
        {
          "output_type": "execute_result",
          "data": {
            "text/plain": [
              "  Country or region  GDP per capita  Social support  Healthy life expectancy  \\\n",
              "0              Peru           0.960           1.274                    0.854   \n",
              "1         Nicaragua           0.694           1.325                    0.835   \n",
              "2            Greece           1.181           1.156                    0.999   \n",
              "3             Qatar           1.684           1.313                    0.871   \n",
              "4        Uzbekistan           0.745           1.529                    0.756   \n",
              "\n",
              "   Freedom to make life choices  Generosity  Perceptions of corruption  \\\n",
              "0                         0.455       0.083                      0.027   \n",
              "1                         0.435       0.200                      0.127   \n",
              "2                         0.067       0.000                      0.034   \n",
              "3                         0.555       0.220                      0.167   \n",
              "4                         0.631       0.322                      0.240   \n",
              "\n",
              "         name    region                       sub-region  Terrorist_attacks  \n",
              "0        Peru  Americas  Latin America and the Caribbean          18.000000  \n",
              "1   Nicaragua  Americas  Latin America and the Caribbean         125.611111  \n",
              "2      Greece    Europe                  Southern Europe         112.000000  \n",
              "3       Qatar      Asia                     Western Asia          57.333333  \n",
              "4  Uzbekistan      Asia                     Central Asia         125.611111  "
            ],
            "text/html": [
              "\n",
              "  <div id=\"df-02272032-b98a-4116-8fca-746ae148555b\">\n",
              "    <div class=\"colab-df-container\">\n",
              "      <div>\n",
              "<style scoped>\n",
              "    .dataframe tbody tr th:only-of-type {\n",
              "        vertical-align: middle;\n",
              "    }\n",
              "\n",
              "    .dataframe tbody tr th {\n",
              "        vertical-align: top;\n",
              "    }\n",
              "\n",
              "    .dataframe thead th {\n",
              "        text-align: right;\n",
              "    }\n",
              "</style>\n",
              "<table border=\"1\" class=\"dataframe\">\n",
              "  <thead>\n",
              "    <tr style=\"text-align: right;\">\n",
              "      <th></th>\n",
              "      <th>Country or region</th>\n",
              "      <th>GDP per capita</th>\n",
              "      <th>Social support</th>\n",
              "      <th>Healthy life expectancy</th>\n",
              "      <th>Freedom to make life choices</th>\n",
              "      <th>Generosity</th>\n",
              "      <th>Perceptions of corruption</th>\n",
              "      <th>name</th>\n",
              "      <th>region</th>\n",
              "      <th>sub-region</th>\n",
              "      <th>Terrorist_attacks</th>\n",
              "    </tr>\n",
              "  </thead>\n",
              "  <tbody>\n",
              "    <tr>\n",
              "      <th>0</th>\n",
              "      <td>Peru</td>\n",
              "      <td>0.960</td>\n",
              "      <td>1.274</td>\n",
              "      <td>0.854</td>\n",
              "      <td>0.455</td>\n",
              "      <td>0.083</td>\n",
              "      <td>0.027</td>\n",
              "      <td>Peru</td>\n",
              "      <td>Americas</td>\n",
              "      <td>Latin America and the Caribbean</td>\n",
              "      <td>18.000000</td>\n",
              "    </tr>\n",
              "    <tr>\n",
              "      <th>1</th>\n",
              "      <td>Nicaragua</td>\n",
              "      <td>0.694</td>\n",
              "      <td>1.325</td>\n",
              "      <td>0.835</td>\n",
              "      <td>0.435</td>\n",
              "      <td>0.200</td>\n",
              "      <td>0.127</td>\n",
              "      <td>Nicaragua</td>\n",
              "      <td>Americas</td>\n",
              "      <td>Latin America and the Caribbean</td>\n",
              "      <td>125.611111</td>\n",
              "    </tr>\n",
              "    <tr>\n",
              "      <th>2</th>\n",
              "      <td>Greece</td>\n",
              "      <td>1.181</td>\n",
              "      <td>1.156</td>\n",
              "      <td>0.999</td>\n",
              "      <td>0.067</td>\n",
              "      <td>0.000</td>\n",
              "      <td>0.034</td>\n",
              "      <td>Greece</td>\n",
              "      <td>Europe</td>\n",
              "      <td>Southern Europe</td>\n",
              "      <td>112.000000</td>\n",
              "    </tr>\n",
              "    <tr>\n",
              "      <th>3</th>\n",
              "      <td>Qatar</td>\n",
              "      <td>1.684</td>\n",
              "      <td>1.313</td>\n",
              "      <td>0.871</td>\n",
              "      <td>0.555</td>\n",
              "      <td>0.220</td>\n",
              "      <td>0.167</td>\n",
              "      <td>Qatar</td>\n",
              "      <td>Asia</td>\n",
              "      <td>Western Asia</td>\n",
              "      <td>57.333333</td>\n",
              "    </tr>\n",
              "    <tr>\n",
              "      <th>4</th>\n",
              "      <td>Uzbekistan</td>\n",
              "      <td>0.745</td>\n",
              "      <td>1.529</td>\n",
              "      <td>0.756</td>\n",
              "      <td>0.631</td>\n",
              "      <td>0.322</td>\n",
              "      <td>0.240</td>\n",
              "      <td>Uzbekistan</td>\n",
              "      <td>Asia</td>\n",
              "      <td>Central Asia</td>\n",
              "      <td>125.611111</td>\n",
              "    </tr>\n",
              "  </tbody>\n",
              "</table>\n",
              "</div>\n",
              "      <button class=\"colab-df-convert\" onclick=\"convertToInteractive('df-02272032-b98a-4116-8fca-746ae148555b')\"\n",
              "              title=\"Convert this dataframe to an interactive table.\"\n",
              "              style=\"display:none;\">\n",
              "        \n",
              "  <svg xmlns=\"http://www.w3.org/2000/svg\" height=\"24px\"viewBox=\"0 0 24 24\"\n",
              "       width=\"24px\">\n",
              "    <path d=\"M0 0h24v24H0V0z\" fill=\"none\"/>\n",
              "    <path d=\"M18.56 5.44l.94 2.06.94-2.06 2.06-.94-2.06-.94-.94-2.06-.94 2.06-2.06.94zm-11 1L8.5 8.5l.94-2.06 2.06-.94-2.06-.94L8.5 2.5l-.94 2.06-2.06.94zm10 10l.94 2.06.94-2.06 2.06-.94-2.06-.94-.94-2.06-.94 2.06-2.06.94z\"/><path d=\"M17.41 7.96l-1.37-1.37c-.4-.4-.92-.59-1.43-.59-.52 0-1.04.2-1.43.59L10.3 9.45l-7.72 7.72c-.78.78-.78 2.05 0 2.83L4 21.41c.39.39.9.59 1.41.59.51 0 1.02-.2 1.41-.59l7.78-7.78 2.81-2.81c.8-.78.8-2.07 0-2.86zM5.41 20L4 18.59l7.72-7.72 1.47 1.35L5.41 20z\"/>\n",
              "  </svg>\n",
              "      </button>\n",
              "      \n",
              "  <style>\n",
              "    .colab-df-container {\n",
              "      display:flex;\n",
              "      flex-wrap:wrap;\n",
              "      gap: 12px;\n",
              "    }\n",
              "\n",
              "    .colab-df-convert {\n",
              "      background-color: #E8F0FE;\n",
              "      border: none;\n",
              "      border-radius: 50%;\n",
              "      cursor: pointer;\n",
              "      display: none;\n",
              "      fill: #1967D2;\n",
              "      height: 32px;\n",
              "      padding: 0 0 0 0;\n",
              "      width: 32px;\n",
              "    }\n",
              "\n",
              "    .colab-df-convert:hover {\n",
              "      background-color: #E2EBFA;\n",
              "      box-shadow: 0px 1px 2px rgba(60, 64, 67, 0.3), 0px 1px 3px 1px rgba(60, 64, 67, 0.15);\n",
              "      fill: #174EA6;\n",
              "    }\n",
              "\n",
              "    [theme=dark] .colab-df-convert {\n",
              "      background-color: #3B4455;\n",
              "      fill: #D2E3FC;\n",
              "    }\n",
              "\n",
              "    [theme=dark] .colab-df-convert:hover {\n",
              "      background-color: #434B5C;\n",
              "      box-shadow: 0px 1px 3px 1px rgba(0, 0, 0, 0.15);\n",
              "      filter: drop-shadow(0px 1px 2px rgba(0, 0, 0, 0.3));\n",
              "      fill: #FFFFFF;\n",
              "    }\n",
              "  </style>\n",
              "\n",
              "      <script>\n",
              "        const buttonEl =\n",
              "          document.querySelector('#df-02272032-b98a-4116-8fca-746ae148555b button.colab-df-convert');\n",
              "        buttonEl.style.display =\n",
              "          google.colab.kernel.accessAllowed ? 'block' : 'none';\n",
              "\n",
              "        async function convertToInteractive(key) {\n",
              "          const element = document.querySelector('#df-02272032-b98a-4116-8fca-746ae148555b');\n",
              "          const dataTable =\n",
              "            await google.colab.kernel.invokeFunction('convertToInteractive',\n",
              "                                                     [key], {});\n",
              "          if (!dataTable) return;\n",
              "\n",
              "          const docLinkHtml = 'Like what you see? Visit the ' +\n",
              "            '<a target=\"_blank\" href=https://colab.research.google.com/notebooks/data_table.ipynb>data table notebook</a>'\n",
              "            + ' to learn more about interactive tables.';\n",
              "          element.innerHTML = '';\n",
              "          dataTable['output_type'] = 'display_data';\n",
              "          await google.colab.output.renderOutput(dataTable, element);\n",
              "          const docLink = document.createElement('div');\n",
              "          docLink.innerHTML = docLinkHtml;\n",
              "          element.appendChild(docLink);\n",
              "        }\n",
              "      </script>\n",
              "    </div>\n",
              "  </div>\n",
              "  "
            ]
          },
          "metadata": {},
          "execution_count": 2
        }
      ]
    },
    {
      "cell_type": "markdown",
      "source": [
        "# Explore bivariate results (Use visualizations!)\n",
        "Describe any relationships you see between particular features and the target variable"
      ],
      "metadata": {
        "id": "uvyCcnFHrPyV"
      }
    },
    {
      "cell_type": "code",
      "source": [
        "full_train = pd.concat([X_train, y_train], axis=1, join=\"inner\")\n"
      ],
      "metadata": {
        "id": "yrVaseFkbWQv"
      },
      "execution_count": 3,
      "outputs": []
    },
    {
      "cell_type": "code",
      "source": [
        "full_train.head()"
      ],
      "metadata": {
        "colab": {
          "base_uri": "https://localhost:8080/",
          "height": 250
        },
        "id": "D6b2n8kJb3cm",
        "outputId": "13d7ce73-6800-4492-aed7-2a9bbc3eba74"
      },
      "execution_count": 4,
      "outputs": [
        {
          "output_type": "execute_result",
          "data": {
            "text/plain": [
              "  Country or region  GDP per capita  Social support  Healthy life expectancy  \\\n",
              "0              Peru           0.960           1.274                    0.854   \n",
              "1         Nicaragua           0.694           1.325                    0.835   \n",
              "2            Greece           1.181           1.156                    0.999   \n",
              "3             Qatar           1.684           1.313                    0.871   \n",
              "4        Uzbekistan           0.745           1.529                    0.756   \n",
              "\n",
              "   Freedom to make life choices  Generosity  Perceptions of corruption  \\\n",
              "0                         0.455       0.083                      0.027   \n",
              "1                         0.435       0.200                      0.127   \n",
              "2                         0.067       0.000                      0.034   \n",
              "3                         0.555       0.220                      0.167   \n",
              "4                         0.631       0.322                      0.240   \n",
              "\n",
              "         name    region                       sub-region  Terrorist_attacks  \\\n",
              "0        Peru  Americas  Latin America and the Caribbean          18.000000   \n",
              "1   Nicaragua  Americas  Latin America and the Caribbean         125.611111   \n",
              "2      Greece    Europe                  Southern Europe         112.000000   \n",
              "3       Qatar      Asia                     Western Asia          57.333333   \n",
              "4  Uzbekistan      Asia                     Central Asia         125.611111   \n",
              "\n",
              "   Average  High  Low  Very High  Very Low  \n",
              "0        1     0    0          0         0  \n",
              "1        0     1    0          0         0  \n",
              "2        1     0    0          0         0  \n",
              "3        0     0    0          1         0  \n",
              "4        0     1    0          0         0  "
            ],
            "text/html": [
              "\n",
              "  <div id=\"df-8b73c677-7a05-48fd-a5c7-003d94653b11\">\n",
              "    <div class=\"colab-df-container\">\n",
              "      <div>\n",
              "<style scoped>\n",
              "    .dataframe tbody tr th:only-of-type {\n",
              "        vertical-align: middle;\n",
              "    }\n",
              "\n",
              "    .dataframe tbody tr th {\n",
              "        vertical-align: top;\n",
              "    }\n",
              "\n",
              "    .dataframe thead th {\n",
              "        text-align: right;\n",
              "    }\n",
              "</style>\n",
              "<table border=\"1\" class=\"dataframe\">\n",
              "  <thead>\n",
              "    <tr style=\"text-align: right;\">\n",
              "      <th></th>\n",
              "      <th>Country or region</th>\n",
              "      <th>GDP per capita</th>\n",
              "      <th>Social support</th>\n",
              "      <th>Healthy life expectancy</th>\n",
              "      <th>Freedom to make life choices</th>\n",
              "      <th>Generosity</th>\n",
              "      <th>Perceptions of corruption</th>\n",
              "      <th>name</th>\n",
              "      <th>region</th>\n",
              "      <th>sub-region</th>\n",
              "      <th>Terrorist_attacks</th>\n",
              "      <th>Average</th>\n",
              "      <th>High</th>\n",
              "      <th>Low</th>\n",
              "      <th>Very High</th>\n",
              "      <th>Very Low</th>\n",
              "    </tr>\n",
              "  </thead>\n",
              "  <tbody>\n",
              "    <tr>\n",
              "      <th>0</th>\n",
              "      <td>Peru</td>\n",
              "      <td>0.960</td>\n",
              "      <td>1.274</td>\n",
              "      <td>0.854</td>\n",
              "      <td>0.455</td>\n",
              "      <td>0.083</td>\n",
              "      <td>0.027</td>\n",
              "      <td>Peru</td>\n",
              "      <td>Americas</td>\n",
              "      <td>Latin America and the Caribbean</td>\n",
              "      <td>18.000000</td>\n",
              "      <td>1</td>\n",
              "      <td>0</td>\n",
              "      <td>0</td>\n",
              "      <td>0</td>\n",
              "      <td>0</td>\n",
              "    </tr>\n",
              "    <tr>\n",
              "      <th>1</th>\n",
              "      <td>Nicaragua</td>\n",
              "      <td>0.694</td>\n",
              "      <td>1.325</td>\n",
              "      <td>0.835</td>\n",
              "      <td>0.435</td>\n",
              "      <td>0.200</td>\n",
              "      <td>0.127</td>\n",
              "      <td>Nicaragua</td>\n",
              "      <td>Americas</td>\n",
              "      <td>Latin America and the Caribbean</td>\n",
              "      <td>125.611111</td>\n",
              "      <td>0</td>\n",
              "      <td>1</td>\n",
              "      <td>0</td>\n",
              "      <td>0</td>\n",
              "      <td>0</td>\n",
              "    </tr>\n",
              "    <tr>\n",
              "      <th>2</th>\n",
              "      <td>Greece</td>\n",
              "      <td>1.181</td>\n",
              "      <td>1.156</td>\n",
              "      <td>0.999</td>\n",
              "      <td>0.067</td>\n",
              "      <td>0.000</td>\n",
              "      <td>0.034</td>\n",
              "      <td>Greece</td>\n",
              "      <td>Europe</td>\n",
              "      <td>Southern Europe</td>\n",
              "      <td>112.000000</td>\n",
              "      <td>1</td>\n",
              "      <td>0</td>\n",
              "      <td>0</td>\n",
              "      <td>0</td>\n",
              "      <td>0</td>\n",
              "    </tr>\n",
              "    <tr>\n",
              "      <th>3</th>\n",
              "      <td>Qatar</td>\n",
              "      <td>1.684</td>\n",
              "      <td>1.313</td>\n",
              "      <td>0.871</td>\n",
              "      <td>0.555</td>\n",
              "      <td>0.220</td>\n",
              "      <td>0.167</td>\n",
              "      <td>Qatar</td>\n",
              "      <td>Asia</td>\n",
              "      <td>Western Asia</td>\n",
              "      <td>57.333333</td>\n",
              "      <td>0</td>\n",
              "      <td>0</td>\n",
              "      <td>0</td>\n",
              "      <td>1</td>\n",
              "      <td>0</td>\n",
              "    </tr>\n",
              "    <tr>\n",
              "      <th>4</th>\n",
              "      <td>Uzbekistan</td>\n",
              "      <td>0.745</td>\n",
              "      <td>1.529</td>\n",
              "      <td>0.756</td>\n",
              "      <td>0.631</td>\n",
              "      <td>0.322</td>\n",
              "      <td>0.240</td>\n",
              "      <td>Uzbekistan</td>\n",
              "      <td>Asia</td>\n",
              "      <td>Central Asia</td>\n",
              "      <td>125.611111</td>\n",
              "      <td>0</td>\n",
              "      <td>1</td>\n",
              "      <td>0</td>\n",
              "      <td>0</td>\n",
              "      <td>0</td>\n",
              "    </tr>\n",
              "  </tbody>\n",
              "</table>\n",
              "</div>\n",
              "      <button class=\"colab-df-convert\" onclick=\"convertToInteractive('df-8b73c677-7a05-48fd-a5c7-003d94653b11')\"\n",
              "              title=\"Convert this dataframe to an interactive table.\"\n",
              "              style=\"display:none;\">\n",
              "        \n",
              "  <svg xmlns=\"http://www.w3.org/2000/svg\" height=\"24px\"viewBox=\"0 0 24 24\"\n",
              "       width=\"24px\">\n",
              "    <path d=\"M0 0h24v24H0V0z\" fill=\"none\"/>\n",
              "    <path d=\"M18.56 5.44l.94 2.06.94-2.06 2.06-.94-2.06-.94-.94-2.06-.94 2.06-2.06.94zm-11 1L8.5 8.5l.94-2.06 2.06-.94-2.06-.94L8.5 2.5l-.94 2.06-2.06.94zm10 10l.94 2.06.94-2.06 2.06-.94-2.06-.94-.94-2.06-.94 2.06-2.06.94z\"/><path d=\"M17.41 7.96l-1.37-1.37c-.4-.4-.92-.59-1.43-.59-.52 0-1.04.2-1.43.59L10.3 9.45l-7.72 7.72c-.78.78-.78 2.05 0 2.83L4 21.41c.39.39.9.59 1.41.59.51 0 1.02-.2 1.41-.59l7.78-7.78 2.81-2.81c.8-.78.8-2.07 0-2.86zM5.41 20L4 18.59l7.72-7.72 1.47 1.35L5.41 20z\"/>\n",
              "  </svg>\n",
              "      </button>\n",
              "      \n",
              "  <style>\n",
              "    .colab-df-container {\n",
              "      display:flex;\n",
              "      flex-wrap:wrap;\n",
              "      gap: 12px;\n",
              "    }\n",
              "\n",
              "    .colab-df-convert {\n",
              "      background-color: #E8F0FE;\n",
              "      border: none;\n",
              "      border-radius: 50%;\n",
              "      cursor: pointer;\n",
              "      display: none;\n",
              "      fill: #1967D2;\n",
              "      height: 32px;\n",
              "      padding: 0 0 0 0;\n",
              "      width: 32px;\n",
              "    }\n",
              "\n",
              "    .colab-df-convert:hover {\n",
              "      background-color: #E2EBFA;\n",
              "      box-shadow: 0px 1px 2px rgba(60, 64, 67, 0.3), 0px 1px 3px 1px rgba(60, 64, 67, 0.15);\n",
              "      fill: #174EA6;\n",
              "    }\n",
              "\n",
              "    [theme=dark] .colab-df-convert {\n",
              "      background-color: #3B4455;\n",
              "      fill: #D2E3FC;\n",
              "    }\n",
              "\n",
              "    [theme=dark] .colab-df-convert:hover {\n",
              "      background-color: #434B5C;\n",
              "      box-shadow: 0px 1px 3px 1px rgba(0, 0, 0, 0.15);\n",
              "      filter: drop-shadow(0px 1px 2px rgba(0, 0, 0, 0.3));\n",
              "      fill: #FFFFFF;\n",
              "    }\n",
              "  </style>\n",
              "\n",
              "      <script>\n",
              "        const buttonEl =\n",
              "          document.querySelector('#df-8b73c677-7a05-48fd-a5c7-003d94653b11 button.colab-df-convert');\n",
              "        buttonEl.style.display =\n",
              "          google.colab.kernel.accessAllowed ? 'block' : 'none';\n",
              "\n",
              "        async function convertToInteractive(key) {\n",
              "          const element = document.querySelector('#df-8b73c677-7a05-48fd-a5c7-003d94653b11');\n",
              "          const dataTable =\n",
              "            await google.colab.kernel.invokeFunction('convertToInteractive',\n",
              "                                                     [key], {});\n",
              "          if (!dataTable) return;\n",
              "\n",
              "          const docLinkHtml = 'Like what you see? Visit the ' +\n",
              "            '<a target=\"_blank\" href=https://colab.research.google.com/notebooks/data_table.ipynb>data table notebook</a>'\n",
              "            + ' to learn more about interactive tables.';\n",
              "          element.innerHTML = '';\n",
              "          dataTable['output_type'] = 'display_data';\n",
              "          await google.colab.output.renderOutput(dataTable, element);\n",
              "          const docLink = document.createElement('div');\n",
              "          docLink.innerHTML = docLinkHtml;\n",
              "          element.appendChild(docLink);\n",
              "        }\n",
              "      </script>\n",
              "    </div>\n",
              "  </div>\n",
              "  "
            ]
          },
          "metadata": {},
          "execution_count": 4
        }
      ]
    },
    {
      "cell_type": "markdown",
      "source": [
        "I'm undoing the one-hot encoding to be able to make some visualizations."
      ],
      "metadata": {
        "id": "FC0aOH83rqcr"
      }
    },
    {
      "cell_type": "code",
      "source": [
        "full_train['happiness'] = (full_train.iloc[:, 11:] == 1).idxmax(1)"
      ],
      "metadata": {
        "id": "gdY1S9CrcQ7P"
      },
      "execution_count": 5,
      "outputs": []
    },
    {
      "cell_type": "code",
      "source": [
        "full_train[full_train['happiness'] == \"Average\"].head()"
      ],
      "metadata": {
        "colab": {
          "base_uri": "https://localhost:8080/",
          "height": 285
        },
        "id": "Ho8rs3cacgeK",
        "outputId": "87e366d4-244a-4cbc-ec18-5dee9eb77142"
      },
      "execution_count": 6,
      "outputs": [
        {
          "output_type": "execute_result",
          "data": {
            "text/plain": [
              "   Country or region  GDP per capita  Social support  Healthy life expectancy  \\\n",
              "0               Peru           0.960           1.274                    0.854   \n",
              "2             Greece           1.181           1.156                    0.999   \n",
              "10           Nigeria           0.696           1.111                    0.245   \n",
              "17        Tajikistan           0.493           1.098                    0.718   \n",
              "30           Belarus           1.067           1.465                    0.789   \n",
              "\n",
              "    Freedom to make life choices  Generosity  Perceptions of corruption  \\\n",
              "0                          0.455       0.083                      0.027   \n",
              "2                          0.067       0.000                      0.034   \n",
              "10                         0.426       0.215                      0.041   \n",
              "17                         0.389       0.230                      0.144   \n",
              "30                         0.235       0.094                      0.142   \n",
              "\n",
              "          name    region                       sub-region  Terrorist_attacks  \\\n",
              "0         Peru  Americas  Latin America and the Caribbean               18.0   \n",
              "2       Greece    Europe                  Southern Europe              112.0   \n",
              "10     Nigeria    Africa               Sub-Saharan Africa             1327.0   \n",
              "17  Tajikistan      Asia                     Central Asia                6.0   \n",
              "30     Belarus    Europe                   Eastern Europe                4.0   \n",
              "\n",
              "    Average  High  Low  Very High  Very Low happiness  \n",
              "0         1     0    0          0         0   Average  \n",
              "2         1     0    0          0         0   Average  \n",
              "10        1     0    0          0         0   Average  \n",
              "17        1     0    0          0         0   Average  \n",
              "30        1     0    0          0         0   Average  "
            ],
            "text/html": [
              "\n",
              "  <div id=\"df-20a1ee13-3d96-4a48-bb82-c6358de333c7\">\n",
              "    <div class=\"colab-df-container\">\n",
              "      <div>\n",
              "<style scoped>\n",
              "    .dataframe tbody tr th:only-of-type {\n",
              "        vertical-align: middle;\n",
              "    }\n",
              "\n",
              "    .dataframe tbody tr th {\n",
              "        vertical-align: top;\n",
              "    }\n",
              "\n",
              "    .dataframe thead th {\n",
              "        text-align: right;\n",
              "    }\n",
              "</style>\n",
              "<table border=\"1\" class=\"dataframe\">\n",
              "  <thead>\n",
              "    <tr style=\"text-align: right;\">\n",
              "      <th></th>\n",
              "      <th>Country or region</th>\n",
              "      <th>GDP per capita</th>\n",
              "      <th>Social support</th>\n",
              "      <th>Healthy life expectancy</th>\n",
              "      <th>Freedom to make life choices</th>\n",
              "      <th>Generosity</th>\n",
              "      <th>Perceptions of corruption</th>\n",
              "      <th>name</th>\n",
              "      <th>region</th>\n",
              "      <th>sub-region</th>\n",
              "      <th>Terrorist_attacks</th>\n",
              "      <th>Average</th>\n",
              "      <th>High</th>\n",
              "      <th>Low</th>\n",
              "      <th>Very High</th>\n",
              "      <th>Very Low</th>\n",
              "      <th>happiness</th>\n",
              "    </tr>\n",
              "  </thead>\n",
              "  <tbody>\n",
              "    <tr>\n",
              "      <th>0</th>\n",
              "      <td>Peru</td>\n",
              "      <td>0.960</td>\n",
              "      <td>1.274</td>\n",
              "      <td>0.854</td>\n",
              "      <td>0.455</td>\n",
              "      <td>0.083</td>\n",
              "      <td>0.027</td>\n",
              "      <td>Peru</td>\n",
              "      <td>Americas</td>\n",
              "      <td>Latin America and the Caribbean</td>\n",
              "      <td>18.0</td>\n",
              "      <td>1</td>\n",
              "      <td>0</td>\n",
              "      <td>0</td>\n",
              "      <td>0</td>\n",
              "      <td>0</td>\n",
              "      <td>Average</td>\n",
              "    </tr>\n",
              "    <tr>\n",
              "      <th>2</th>\n",
              "      <td>Greece</td>\n",
              "      <td>1.181</td>\n",
              "      <td>1.156</td>\n",
              "      <td>0.999</td>\n",
              "      <td>0.067</td>\n",
              "      <td>0.000</td>\n",
              "      <td>0.034</td>\n",
              "      <td>Greece</td>\n",
              "      <td>Europe</td>\n",
              "      <td>Southern Europe</td>\n",
              "      <td>112.0</td>\n",
              "      <td>1</td>\n",
              "      <td>0</td>\n",
              "      <td>0</td>\n",
              "      <td>0</td>\n",
              "      <td>0</td>\n",
              "      <td>Average</td>\n",
              "    </tr>\n",
              "    <tr>\n",
              "      <th>10</th>\n",
              "      <td>Nigeria</td>\n",
              "      <td>0.696</td>\n",
              "      <td>1.111</td>\n",
              "      <td>0.245</td>\n",
              "      <td>0.426</td>\n",
              "      <td>0.215</td>\n",
              "      <td>0.041</td>\n",
              "      <td>Nigeria</td>\n",
              "      <td>Africa</td>\n",
              "      <td>Sub-Saharan Africa</td>\n",
              "      <td>1327.0</td>\n",
              "      <td>1</td>\n",
              "      <td>0</td>\n",
              "      <td>0</td>\n",
              "      <td>0</td>\n",
              "      <td>0</td>\n",
              "      <td>Average</td>\n",
              "    </tr>\n",
              "    <tr>\n",
              "      <th>17</th>\n",
              "      <td>Tajikistan</td>\n",
              "      <td>0.493</td>\n",
              "      <td>1.098</td>\n",
              "      <td>0.718</td>\n",
              "      <td>0.389</td>\n",
              "      <td>0.230</td>\n",
              "      <td>0.144</td>\n",
              "      <td>Tajikistan</td>\n",
              "      <td>Asia</td>\n",
              "      <td>Central Asia</td>\n",
              "      <td>6.0</td>\n",
              "      <td>1</td>\n",
              "      <td>0</td>\n",
              "      <td>0</td>\n",
              "      <td>0</td>\n",
              "      <td>0</td>\n",
              "      <td>Average</td>\n",
              "    </tr>\n",
              "    <tr>\n",
              "      <th>30</th>\n",
              "      <td>Belarus</td>\n",
              "      <td>1.067</td>\n",
              "      <td>1.465</td>\n",
              "      <td>0.789</td>\n",
              "      <td>0.235</td>\n",
              "      <td>0.094</td>\n",
              "      <td>0.142</td>\n",
              "      <td>Belarus</td>\n",
              "      <td>Europe</td>\n",
              "      <td>Eastern Europe</td>\n",
              "      <td>4.0</td>\n",
              "      <td>1</td>\n",
              "      <td>0</td>\n",
              "      <td>0</td>\n",
              "      <td>0</td>\n",
              "      <td>0</td>\n",
              "      <td>Average</td>\n",
              "    </tr>\n",
              "  </tbody>\n",
              "</table>\n",
              "</div>\n",
              "      <button class=\"colab-df-convert\" onclick=\"convertToInteractive('df-20a1ee13-3d96-4a48-bb82-c6358de333c7')\"\n",
              "              title=\"Convert this dataframe to an interactive table.\"\n",
              "              style=\"display:none;\">\n",
              "        \n",
              "  <svg xmlns=\"http://www.w3.org/2000/svg\" height=\"24px\"viewBox=\"0 0 24 24\"\n",
              "       width=\"24px\">\n",
              "    <path d=\"M0 0h24v24H0V0z\" fill=\"none\"/>\n",
              "    <path d=\"M18.56 5.44l.94 2.06.94-2.06 2.06-.94-2.06-.94-.94-2.06-.94 2.06-2.06.94zm-11 1L8.5 8.5l.94-2.06 2.06-.94-2.06-.94L8.5 2.5l-.94 2.06-2.06.94zm10 10l.94 2.06.94-2.06 2.06-.94-2.06-.94-.94-2.06-.94 2.06-2.06.94z\"/><path d=\"M17.41 7.96l-1.37-1.37c-.4-.4-.92-.59-1.43-.59-.52 0-1.04.2-1.43.59L10.3 9.45l-7.72 7.72c-.78.78-.78 2.05 0 2.83L4 21.41c.39.39.9.59 1.41.59.51 0 1.02-.2 1.41-.59l7.78-7.78 2.81-2.81c.8-.78.8-2.07 0-2.86zM5.41 20L4 18.59l7.72-7.72 1.47 1.35L5.41 20z\"/>\n",
              "  </svg>\n",
              "      </button>\n",
              "      \n",
              "  <style>\n",
              "    .colab-df-container {\n",
              "      display:flex;\n",
              "      flex-wrap:wrap;\n",
              "      gap: 12px;\n",
              "    }\n",
              "\n",
              "    .colab-df-convert {\n",
              "      background-color: #E8F0FE;\n",
              "      border: none;\n",
              "      border-radius: 50%;\n",
              "      cursor: pointer;\n",
              "      display: none;\n",
              "      fill: #1967D2;\n",
              "      height: 32px;\n",
              "      padding: 0 0 0 0;\n",
              "      width: 32px;\n",
              "    }\n",
              "\n",
              "    .colab-df-convert:hover {\n",
              "      background-color: #E2EBFA;\n",
              "      box-shadow: 0px 1px 2px rgba(60, 64, 67, 0.3), 0px 1px 3px 1px rgba(60, 64, 67, 0.15);\n",
              "      fill: #174EA6;\n",
              "    }\n",
              "\n",
              "    [theme=dark] .colab-df-convert {\n",
              "      background-color: #3B4455;\n",
              "      fill: #D2E3FC;\n",
              "    }\n",
              "\n",
              "    [theme=dark] .colab-df-convert:hover {\n",
              "      background-color: #434B5C;\n",
              "      box-shadow: 0px 1px 3px 1px rgba(0, 0, 0, 0.15);\n",
              "      filter: drop-shadow(0px 1px 2px rgba(0, 0, 0, 0.3));\n",
              "      fill: #FFFFFF;\n",
              "    }\n",
              "  </style>\n",
              "\n",
              "      <script>\n",
              "        const buttonEl =\n",
              "          document.querySelector('#df-20a1ee13-3d96-4a48-bb82-c6358de333c7 button.colab-df-convert');\n",
              "        buttonEl.style.display =\n",
              "          google.colab.kernel.accessAllowed ? 'block' : 'none';\n",
              "\n",
              "        async function convertToInteractive(key) {\n",
              "          const element = document.querySelector('#df-20a1ee13-3d96-4a48-bb82-c6358de333c7');\n",
              "          const dataTable =\n",
              "            await google.colab.kernel.invokeFunction('convertToInteractive',\n",
              "                                                     [key], {});\n",
              "          if (!dataTable) return;\n",
              "\n",
              "          const docLinkHtml = 'Like what you see? Visit the ' +\n",
              "            '<a target=\"_blank\" href=https://colab.research.google.com/notebooks/data_table.ipynb>data table notebook</a>'\n",
              "            + ' to learn more about interactive tables.';\n",
              "          element.innerHTML = '';\n",
              "          dataTable['output_type'] = 'display_data';\n",
              "          await google.colab.output.renderOutput(dataTable, element);\n",
              "          const docLink = document.createElement('div');\n",
              "          docLink.innerHTML = docLinkHtml;\n",
              "          element.appendChild(docLink);\n",
              "        }\n",
              "      </script>\n",
              "    </div>\n",
              "  </div>\n",
              "  "
            ]
          },
          "metadata": {},
          "execution_count": 6
        }
      ]
    },
    {
      "cell_type": "code",
      "source": [
        "def happiness_rank(value):\n",
        "    if value == \"Very Low\":\n",
        "        return 1\n",
        "    if value == \"Low\":\n",
        "        return 2\n",
        "    elif value == \"Average\":\n",
        "        return 3\n",
        "    elif value == \"High\":\n",
        "        return 4\n",
        "    elif value == \"Very High\":\n",
        "        return 5\n",
        " \n",
        "full_train['happiness_level'] = full_train['happiness'].map(happiness_rank)\n"
      ],
      "metadata": {
        "id": "KqbMRpn4l3r9"
      },
      "execution_count": 7,
      "outputs": []
    },
    {
      "cell_type": "markdown",
      "source": [
        "There appears to be a strong relationship between GDP per capita and happiness level, so this variable will definitely be used in my model."
      ],
      "metadata": {
        "id": "3M9OS_BDOowY"
      }
    },
    {
      "cell_type": "code",
      "source": [
        "import matplotlib.pyplot as plt\n",
        "\n",
        "plt.ylabel(\"GDP per capita\")\n",
        "plt.xlabel(\"happiness level\")\n",
        "plt.title(\"\")\n",
        "plt.scatter(full_train['happiness_level'], full_train['GDP per capita'], c = 'olivedrab')\n",
        "plt.show()"
      ],
      "metadata": {
        "colab": {
          "base_uri": "https://localhost:8080/",
          "height": 281
        },
        "id": "M53bubtuDq7B",
        "outputId": "a1fb9507-df6d-43ca-f6af-6784fb66d0f1"
      },
      "execution_count": 8,
      "outputs": [
        {
          "output_type": "display_data",
          "data": {
            "text/plain": [
              "<Figure size 432x288 with 1 Axes>"
            ],
            "image/png": "[encoded data removed]"
          },
          "metadata": {
            "needs_background": "light"
          }
        }
      ]
    },
    {
      "cell_type": "markdown",
      "source": [
        "Freedom to make life choices clearly does have an impact on happiness level especially among the happiest countries, but it doesn't make a massive difference accross the other 4 happiness levels. It might be worth leaving in but could also result in adding noise to the model."
      ],
      "metadata": {
        "id": "6UGIwFAHPBDG"
      }
    },
    {
      "cell_type": "code",
      "source": [
        "plt.ylabel(\"Freedom to make life choices\")\n",
        "plt.xlabel(\"happiness level\")\n",
        "plt.title(\"\")\n",
        "plt.scatter(full_train['happiness_level'], full_train['Freedom to make life choices'], c = 'olivedrab')\n",
        "plt.show()"
      ],
      "metadata": {
        "colab": {
          "base_uri": "https://localhost:8080/",
          "height": 279
        },
        "id": "I17iIcOYswqq",
        "outputId": "3e570ae8-920b-413f-81b1-79ed56012f25"
      },
      "execution_count": 9,
      "outputs": [
        {
          "output_type": "display_data",
          "data": {
            "text/plain": [
              "<Figure size 432x288 with 1 Axes>"
            ],
            "image/png": "[encoded data removed]"
          },
          "metadata": {
            "needs_background": "light"
          }
        }
      ]
    },
    {
      "cell_type": "markdown",
      "source": [
        "There is also an obvious relationship between the social support variable and happiness level, so I will keep this in the model as well."
      ],
      "metadata": {
        "id": "EydYyHh-O2ev"
      }
    },
    {
      "cell_type": "code",
      "source": [
        "plt.ylabel(\"Social support\")\n",
        "plt.xlabel(\"happiness level\")\n",
        "plt.title(\"\")\n",
        "plt.scatter(full_train['happiness_level'], full_train['Social support'], c = 'olivedrab')\n",
        "plt.show()"
      ],
      "metadata": {
        "colab": {
          "base_uri": "https://localhost:8080/",
          "height": 279
        },
        "id": "5rjN7Og5s48K",
        "outputId": "21fdee81-d778-49f7-96b5-8efc156b4137"
      },
      "execution_count": 10,
      "outputs": [
        {
          "output_type": "display_data",
          "data": {
            "text/plain": [
              "<Figure size 432x288 with 1 Axes>"
            ],
            "image/png": "[encoded data removed]"
          },
          "metadata": {
            "needs_background": "light"
          }
        }
      ]
    },
    {
      "cell_type": "markdown",
      "source": [
        "Healthy life expectancy is definitely related to happiness level and I will use it in my model."
      ],
      "metadata": {
        "id": "DDAws5q_PbhY"
      }
    },
    {
      "cell_type": "code",
      "source": [
        "plt.ylabel(\"Healthy life expectancy\")\n",
        "plt.xlabel(\"happiness level\")\n",
        "plt.title(\"\")\n",
        "plt.scatter(full_train['happiness_level'], full_train['Healthy life expectancy'], c = 'olivedrab')\n",
        "plt.show()"
      ],
      "metadata": {
        "colab": {
          "base_uri": "https://localhost:8080/",
          "height": 279
        },
        "id": "UHsvD0kutDEh",
        "outputId": "9f5cc3b3-f908-4d56-eb1c-ff44426b9177"
      },
      "execution_count": 11,
      "outputs": [
        {
          "output_type": "display_data",
          "data": {
            "text/plain": [
              "<Figure size 432x288 with 1 Axes>"
            ],
            "image/png": "[encoded data removed]"
          },
          "metadata": {
            "needs_background": "light"
          }
        }
      ]
    },
    {
      "cell_type": "markdown",
      "source": [
        "Generosity seems like it might potentially just add noise to our prediction, could think about removing that variable."
      ],
      "metadata": {
        "id": "ttr94fputTCI"
      }
    },
    {
      "cell_type": "code",
      "source": [
        "plt.ylabel(\"Generosity\")\n",
        "plt.xlabel(\"happiness level\")\n",
        "plt.title(\"\")\n",
        "plt.scatter(full_train['happiness_level'], full_train['Generosity'], c = 'olivedrab')\n",
        "plt.show()"
      ],
      "metadata": {
        "colab": {
          "base_uri": "https://localhost:8080/",
          "height": 279
        },
        "id": "qNKZcI_JtQQr",
        "outputId": "1e77a3ce-673b-4347-c324-ff336eaabc9a"
      },
      "execution_count": 12,
      "outputs": [
        {
          "output_type": "display_data",
          "data": {
            "text/plain": [
              "<Figure size 432x288 with 1 Axes>"
            ],
            "image/png": "[encoded data removed]"
          },
          "metadata": {
            "needs_background": "light"
          }
        }
      ]
    },
    {
      "cell_type": "markdown",
      "source": [
        "The relationship between perceptions of corruption and happiness level is definitely not what I would have expected but interesting, even though there is a great deal of overlap with levels 1-4, still might want to keep in."
      ],
      "metadata": {
        "id": "uHg9_x11tutj"
      }
    },
    {
      "cell_type": "code",
      "source": [
        "plt.ylabel(\"Perceptions of corruption\")\n",
        "plt.xlabel(\"happiness level\")\n",
        "plt.title(\"\")\n",
        "plt.scatter(full_train['happiness_level'], full_train['Perceptions of corruption'], c = 'olivedrab')\n",
        "plt.show()"
      ],
      "metadata": {
        "colab": {
          "base_uri": "https://localhost:8080/",
          "height": 279
        },
        "id": "qly65vRPtfk_",
        "outputId": "cb49b87f-9118-4622-9088-fe2a4851c252"
      },
      "execution_count": 13,
      "outputs": [
        {
          "output_type": "display_data",
          "data": {
            "text/plain": [
              "<Figure size 432x288 with 1 Axes>"
            ],
            "image/png": "[encoded data removed]"
          },
          "metadata": {
            "needs_background": "light"
          }
        }
      ]
    },
    {
      "cell_type": "markdown",
      "source": [
        "Terrorist attacks outlier countries might have the potential to add error? Might want to remove this variable as well. "
      ],
      "metadata": {
        "id": "-uk5duYwuHJi"
      }
    },
    {
      "cell_type": "code",
      "source": [
        "plt.ylabel(\"Terrorist attacks\")\n",
        "plt.xlabel(\"happiness level\")\n",
        "plt.title(\"\")\n",
        "plt.scatter(full_train['happiness_level'], full_train['Terrorist_attacks'], c = 'olivedrab')\n",
        "plt.show()"
      ],
      "metadata": {
        "colab": {
          "base_uri": "https://localhost:8080/",
          "height": 279
        },
        "id": "x_CFVH16t7JH",
        "outputId": "a534fc9e-d23f-46cb-c406-7dab0e6a4ca4"
      },
      "execution_count": 14,
      "outputs": [
        {
          "output_type": "display_data",
          "data": {
            "text/plain": [
              "<Figure size 432x288 with 1 Axes>"
            ],
            "image/png": "[encoded data removed]"
          },
          "metadata": {
            "needs_background": "light"
          }
        }
      ]
    },
    {
      "cell_type": "markdown",
      "source": [
        "There are clear differences in average happiness levels among countries in different regions. This variable should stay in."
      ],
      "metadata": {
        "id": "dsYO9D0sPlCB"
      }
    },
    {
      "cell_type": "code",
      "source": [
        "grouped = full_train.groupby('region', as_index=False)['happiness_level'].mean()\n",
        "\n",
        "plt.ylabel(\"Average Happiness\")\n",
        "plt.xlabel(\"Region\")\n",
        "plt.title(\"\")\n",
        "plt.bar(grouped['region'], grouped['happiness_level'],color='olivedrab')\n",
        "plt.show()"
      ],
      "metadata": {
        "colab": {
          "base_uri": "https://localhost:8080/",
          "height": 279
        },
        "id": "-_PMC7a3uU8H",
        "outputId": "c1ccc2df-aa4f-4e96-e4c2-ab598e4f095f"
      },
      "execution_count": 15,
      "outputs": [
        {
          "output_type": "display_data",
          "data": {
            "text/plain": [
              "<Figure size 432x288 with 1 Axes>"
            ],
            "image/png": "[encoded data removed]"
          },
          "metadata": {
            "needs_background": "light"
          }
        }
      ]
    },
    {
      "cell_type": "markdown",
      "source": [
        "Sub region also clearly affects happiness level, so it will also be used in my model."
      ],
      "metadata": {
        "id": "9AGYOfDjPud8"
      }
    },
    {
      "cell_type": "code",
      "source": [
        "grouped = full_train.groupby('sub-region', as_index=False)['happiness_level'].mean()\n",
        "grouped = grouped.sort_values('happiness_level')\n",
        "\n",
        "plt.ylabel(\"Sub-region\")\n",
        "plt.xlabel(\"average happiness\")\n",
        "plt.title(\"\")\n",
        "plt.barh(grouped['sub-region'], grouped['happiness_level'], color = 'olivedrab')\n",
        "plt.show()"
      ],
      "metadata": {
        "colab": {
          "base_uri": "https://localhost:8080/",
          "height": 279
        },
        "id": "amy5mrhdvoL8",
        "outputId": "a49591b8-164e-4361-a6ab-cfa8273144e1"
      },
      "execution_count": 16,
      "outputs": [
        {
          "output_type": "display_data",
          "data": {
            "text/plain": [
              "<Figure size 432x288 with 1 Axes>"
            ],
            "image/png": "[encoded data removed]"
          },
          "metadata": {
            "needs_background": "light"
          }
        }
      ]
    },
    {
      "cell_type": "markdown",
      "source": [
        "#Examine features that predict happiness categories using one or more models that allow for automatic feature selection\n",
        "Explain any meaningful findings\n"
      ],
      "metadata": {
        "id": "nmAn-LeMP6_Z"
      }
    },
    {
      "cell_type": "markdown",
      "source": [
        "I'm going to use Lasso regression to get important features. It's going to be a regression to predict the happiness level variable I made (treating it as a continuous numeric variable). This won't be exactly what is predicted in the other models, but doing it this way makes it easier I think to find important features. I do think doing this is more meaningful in some ways than treating the happiness variable as a categorical variablele. "
      ],
      "metadata": {
        "id": "upR43oQ2QUUv"
      }
    },
    {
      "cell_type": "code",
      "source": [
        "dummies1 = pd.get_dummies(full_train['sub-region'], prefix='sub-region')\n",
        "dummies2 = pd.get_dummies(full_train['region'], prefix='region')"
      ],
      "metadata": {
        "id": "SA1SP9UAQ-oY"
      },
      "execution_count": 17,
      "outputs": []
    },
    {
      "cell_type": "code",
      "source": [
        "final_df = full_train.join(dummies1).join(dummies2)"
      ],
      "metadata": {
        "id": "qwtBn14cSYy5"
      },
      "execution_count": 18,
      "outputs": []
    },
    {
      "cell_type": "code",
      "source": [
        "final_df.columns"
      ],
      "metadata": {
        "colab": {
          "base_uri": "https://localhost:8080/"
        },
        "id": "9bwGyanXS4G0",
        "outputId": "53b9982e-91ab-449f-f373-69b7a834e58c"
      },
      "execution_count": 19,
      "outputs": [
        {
          "output_type": "execute_result",
          "data": {
            "text/plain": [
              "Index(['Country or region', 'GDP per capita', 'Social support',\n",
              "       'Healthy life expectancy', 'Freedom to make life choices', 'Generosity',\n",
              "       'Perceptions of corruption', 'name', 'region', 'sub-region',\n",
              "       'Terrorist_attacks', 'Average', 'High', 'Low', 'Very High', 'Very Low',\n",
              "       'happiness', 'happiness_level', 'sub-region_Australia and New Zealand',\n",
              "       'sub-region_Central Asia', 'sub-region_Eastern Asia',\n",
              "       'sub-region_Eastern Europe',\n",
              "       'sub-region_Latin America and the Caribbean',\n",
              "       'sub-region_Northern Africa', 'sub-region_Northern America',\n",
              "       'sub-region_Northern Europe', 'sub-region_South-eastern Asia',\n",
              "       'sub-region_Southern Asia', 'sub-region_Southern Europe',\n",
              "       'sub-region_Sub-Saharan Africa', 'sub-region_Western Asia',\n",
              "       'sub-region_Western Europe', 'region_Africa', 'region_Americas',\n",
              "       'region_Asia', 'region_Europe', 'region_Oceania'],\n",
              "      dtype='object')"
            ]
          },
          "metadata": {},
          "execution_count": 19
        }
      ]
    },
    {
      "cell_type": "code",
      "source": [
        "from sklearn.pipeline import make_pipeline\n",
        "from sklearn.model_selection import KFold\n",
        "from sklearn.model_selection import StratifiedKFold\n",
        "import numpy as np\n",
        "from sklearn.model_selection import GridSearchCV\n",
        "from sklearn.preprocessing import StandardScaler\n",
        "from sklearn.linear_model import Lasso\n",
        "\n",
        "lasso_X = final_df.drop(['happiness_level','name','Country or region',\n",
        "                         'sub-region','region','happiness','Average','High',\n",
        "                         'Low','Very High','Very Low'], axis=1)\n",
        "lasso_y = final_df['happiness_level']\n",
        "\n",
        "lasso_pipe = make_pipeline(StandardScaler(), Lasso(max_iter=100000))\n",
        "\n",
        "param_grid = {'lasso__alpha': [0.0001, 0.001,0.01, 0.1, 1, 10,100]}\n",
        "\n",
        "grid = GridSearchCV(lasso_pipe, param_grid, cv=10)\n",
        "grid.fit(lasso_X, lasso_y)\n",
        "print(grid.best_params_)\n",
        "print(grid.best_score_)\n",
        "print(grid.best_estimator_.named_steps.lasso.coef_)\n",
        "\n",
        "lasso_coefs = grid.best_estimator_.named_steps.lasso.coef_"
      ],
      "metadata": {
        "colab": {
          "base_uri": "https://localhost:8080/"
        },
        "id": "J3dE4qlFxlmu",
        "outputId": "009c8518-796f-4ddf-86dd-23768fbefca5"
      },
      "execution_count": 20,
      "outputs": [
        {
          "output_type": "stream",
          "name": "stdout",
          "text": [
            "{'lasso__alpha': 0.1}\n",
            "0.6883208475421112\n",
            "[ 0.59302119  0.11429074  0.23700467  0.18940966  0.          0.\n",
            " -0.          0.          0.03101432  0.          0.          0.\n",
            " -0.          0.          0.04692362 -0.05335447 -0.08900801 -0.\n",
            " -0.         -0.          0.03621395 -0.05190975  0.10884889 -0.\n",
            "  0.05705371  0.        ]\n"
          ]
        }
      ]
    },
    {
      "cell_type": "code",
      "source": [
        "comp = pd.DataFrame(lasso_X.columns, index=lasso_X.columns)\n",
        "\n",
        "comp[\"lasso\"] = lasso_coefs\n",
        "comp[abs(comp[\"lasso\"])>0].sort_values(by='lasso',ascending = False)"
      ],
      "metadata": {
        "colab": {
          "base_uri": "https://localhost:8080/",
          "height": 426
        },
        "id": "VIJmBtncTUCs",
        "outputId": "d1ec9f39-a9bc-4bf4-c550-fdce48d8cae6"
      },
      "execution_count": 21,
      "outputs": [
        {
          "output_type": "execute_result",
          "data": {
            "text/plain": [
              "                                                           0     lasso\n",
              "GDP per capita                                GDP per capita  0.593021\n",
              "Healthy life expectancy              Healthy life expectancy  0.237005\n",
              "Freedom to make life choices    Freedom to make life choices  0.189410\n",
              "Social support                                Social support  0.114291\n",
              "region_Americas                              region_Americas  0.108849\n",
              "region_Europe                                  region_Europe  0.057054\n",
              "sub-region_Northern Europe        sub-region_Northern Europe  0.046924\n",
              "sub-region_Western Europe          sub-region_Western Europe  0.036214\n",
              "sub-region_Central Asia              sub-region_Central Asia  0.031014\n",
              "region_Africa                                  region_Africa -0.051910\n",
              "sub-region_South-eastern Asia  sub-region_South-eastern Asia -0.053354\n",
              "sub-region_Southern Asia            sub-region_Southern Asia -0.089008"
            ],
            "text/html": [
              "\n",
              "  <div id=\"df-db9bae2f-dc58-482e-8c7d-ae62570cf0f5\">\n",
              "    <div class=\"colab-df-container\">\n",
              "      <div>\n",
              "<style scoped>\n",
              "    .dataframe tbody tr th:only-of-type {\n",
              "        vertical-align: middle;\n",
              "    }\n",
              "\n",
              "    .dataframe tbody tr th {\n",
              "        vertical-align: top;\n",
              "    }\n",
              "\n",
              "    .dataframe thead th {\n",
              "        text-align: right;\n",
              "    }\n",
              "</style>\n",
              "<table border=\"1\" class=\"dataframe\">\n",
              "  <thead>\n",
              "    <tr style=\"text-align: right;\">\n",
              "      <th></th>\n",
              "      <th>0</th>\n",
              "      <th>lasso</th>\n",
              "    </tr>\n",
              "  </thead>\n",
              "  <tbody>\n",
              "    <tr>\n",
              "      <th>GDP per capita</th>\n",
              "      <td>GDP per capita</td>\n",
              "      <td>0.593021</td>\n",
              "    </tr>\n",
              "    <tr>\n",
              "      <th>Healthy life expectancy</th>\n",
              "      <td>Healthy life expectancy</td>\n",
              "      <td>0.237005</td>\n",
              "    </tr>\n",
              "    <tr>\n",
              "      <th>Freedom to make life choices</th>\n",
              "      <td>Freedom to make life choices</td>\n",
              "      <td>0.189410</td>\n",
              "    </tr>\n",
              "    <tr>\n",
              "      <th>Social support</th>\n",
              "      <td>Social support</td>\n",
              "      <td>0.114291</td>\n",
              "    </tr>\n",
              "    <tr>\n",
              "      <th>region_Americas</th>\n",
              "      <td>region_Americas</td>\n",
              "      <td>0.108849</td>\n",
              "    </tr>\n",
              "    <tr>\n",
              "      <th>region_Europe</th>\n",
              "      <td>region_Europe</td>\n",
              "      <td>0.057054</td>\n",
              "    </tr>\n",
              "    <tr>\n",
              "      <th>sub-region_Northern Europe</th>\n",
              "      <td>sub-region_Northern Europe</td>\n",
              "      <td>0.046924</td>\n",
              "    </tr>\n",
              "    <tr>\n",
              "      <th>sub-region_Western Europe</th>\n",
              "      <td>sub-region_Western Europe</td>\n",
              "      <td>0.036214</td>\n",
              "    </tr>\n",
              "    <tr>\n",
              "      <th>sub-region_Central Asia</th>\n",
              "      <td>sub-region_Central Asia</td>\n",
              "      <td>0.031014</td>\n",
              "    </tr>\n",
              "    <tr>\n",
              "      <th>region_Africa</th>\n",
              "      <td>region_Africa</td>\n",
              "      <td>-0.051910</td>\n",
              "    </tr>\n",
              "    <tr>\n",
              "      <th>sub-region_South-eastern Asia</th>\n",
              "      <td>sub-region_South-eastern Asia</td>\n",
              "      <td>-0.053354</td>\n",
              "    </tr>\n",
              "    <tr>\n",
              "      <th>sub-region_Southern Asia</th>\n",
              "      <td>sub-region_Southern Asia</td>\n",
              "      <td>-0.089008</td>\n",
              "    </tr>\n",
              "  </tbody>\n",
              "</table>\n",
              "</div>\n",
              "      <button class=\"colab-df-convert\" onclick=\"convertToInteractive('df-db9bae2f-dc58-482e-8c7d-ae62570cf0f5')\"\n",
              "              title=\"Convert this dataframe to an interactive table.\"\n",
              "              style=\"display:none;\">\n",
              "        \n",
              "  <svg xmlns=\"http://www.w3.org/2000/svg\" height=\"24px\"viewBox=\"0 0 24 24\"\n",
              "       width=\"24px\">\n",
              "    <path d=\"M0 0h24v24H0V0z\" fill=\"none\"/>\n",
              "    <path d=\"M18.56 5.44l.94 2.06.94-2.06 2.06-.94-2.06-.94-.94-2.06-.94 2.06-2.06.94zm-11 1L8.5 8.5l.94-2.06 2.06-.94-2.06-.94L8.5 2.5l-.94 2.06-2.06.94zm10 10l.94 2.06.94-2.06 2.06-.94-2.06-.94-.94-2.06-.94 2.06-2.06.94z\"/><path d=\"M17.41 7.96l-1.37-1.37c-.4-.4-.92-.59-1.43-.59-.52 0-1.04.2-1.43.59L10.3 9.45l-7.72 7.72c-.78.78-.78 2.05 0 2.83L4 21.41c.39.39.9.59 1.41.59.51 0 1.02-.2 1.41-.59l7.78-7.78 2.81-2.81c.8-.78.8-2.07 0-2.86zM5.41 20L4 18.59l7.72-7.72 1.47 1.35L5.41 20z\"/>\n",
              "  </svg>\n",
              "      </button>\n",
              "      \n",
              "  <style>\n",
              "    .colab-df-container {\n",
              "      display:flex;\n",
              "      flex-wrap:wrap;\n",
              "      gap: 12px;\n",
              "    }\n",
              "\n",
              "    .colab-df-convert {\n",
              "      background-color: #E8F0FE;\n",
              "      border: none;\n",
              "      border-radius: 50%;\n",
              "      cursor: pointer;\n",
              "      display: none;\n",
              "      fill: #1967D2;\n",
              "      height: 32px;\n",
              "      padding: 0 0 0 0;\n",
              "      width: 32px;\n",
              "    }\n",
              "\n",
              "    .colab-df-convert:hover {\n",
              "      background-color: #E2EBFA;\n",
              "      box-shadow: 0px 1px 2px rgba(60, 64, 67, 0.3), 0px 1px 3px 1px rgba(60, 64, 67, 0.15);\n",
              "      fill: #174EA6;\n",
              "    }\n",
              "\n",
              "    [theme=dark] .colab-df-convert {\n",
              "      background-color: #3B4455;\n",
              "      fill: #D2E3FC;\n",
              "    }\n",
              "\n",
              "    [theme=dark] .colab-df-convert:hover {\n",
              "      background-color: #434B5C;\n",
              "      box-shadow: 0px 1px 3px 1px rgba(0, 0, 0, 0.15);\n",
              "      filter: drop-shadow(0px 1px 2px rgba(0, 0, 0, 0.3));\n",
              "      fill: #FFFFFF;\n",
              "    }\n",
              "  </style>\n",
              "\n",
              "      <script>\n",
              "        const buttonEl =\n",
              "          document.querySelector('#df-db9bae2f-dc58-482e-8c7d-ae62570cf0f5 button.colab-df-convert');\n",
              "        buttonEl.style.display =\n",
              "          google.colab.kernel.accessAllowed ? 'block' : 'none';\n",
              "\n",
              "        async function convertToInteractive(key) {\n",
              "          const element = document.querySelector('#df-db9bae2f-dc58-482e-8c7d-ae62570cf0f5');\n",
              "          const dataTable =\n",
              "            await google.colab.kernel.invokeFunction('convertToInteractive',\n",
              "                                                     [key], {});\n",
              "          if (!dataTable) return;\n",
              "\n",
              "          const docLinkHtml = 'Like what you see? Visit the ' +\n",
              "            '<a target=\"_blank\" href=https://colab.research.google.com/notebooks/data_table.ipynb>data table notebook</a>'\n",
              "            + ' to learn more about interactive tables.';\n",
              "          element.innerHTML = '';\n",
              "          dataTable['output_type'] = 'display_data';\n",
              "          await google.colab.output.renderOutput(dataTable, element);\n",
              "          const docLink = document.createElement('div');\n",
              "          docLink.innerHTML = docLinkHtml;\n",
              "          element.appendChild(docLink);\n",
              "        }\n",
              "      </script>\n",
              "    </div>\n",
              "  </div>\n",
              "  "
            ]
          },
          "metadata": {},
          "execution_count": 21
        }
      ]
    },
    {
      "cell_type": "code",
      "source": [
        "comp[abs(comp[\"lasso\"])>0].index"
      ],
      "metadata": {
        "colab": {
          "base_uri": "https://localhost:8080/"
        },
        "id": "a0vDF_ehqFgE",
        "outputId": "ca4e9734-5b8f-43af-e668-82c225d967f5"
      },
      "execution_count": 22,
      "outputs": [
        {
          "output_type": "execute_result",
          "data": {
            "text/plain": [
              "Index(['GDP per capita', 'Social support', 'Healthy life expectancy',\n",
              "       'Freedom to make life choices', 'sub-region_Central Asia',\n",
              "       'sub-region_Northern Europe', 'sub-region_South-eastern Asia',\n",
              "       'sub-region_Southern Asia', 'sub-region_Western Europe',\n",
              "       'region_Africa', 'region_Americas', 'region_Europe'],\n",
              "      dtype='object')"
            ]
          },
          "metadata": {},
          "execution_count": 22
        }
      ]
    },
    {
      "cell_type": "markdown",
      "source": [
        "I'm not surprised to find that GDP per capita is the most important feature here, as it was evident from the visualization that it was highly correlated with happiness. Same goes for healhty life expectancy. It's interesting that freedom to make life choices is ranked slightly higher than social support, based on the visualizations I wouldn't have expected that. It makes sense that terrorist attacks and perception of corruption are not included in this model, as it didn't appear that there was a relationship between those and happiness based on the visualizations. I'm also not surprised to see that some regions and subregions are included in the model, as there did appear to be significant differences across those."
      ],
      "metadata": {
        "id": "XTEmZbM9Xa18"
      }
    },
    {
      "cell_type": "markdown",
      "source": [
        "Now because I'm interseted, I'm going to do the same as above but using logistic regression with L1 penalty to predict the happiness variable as a categorical variable. I'm wondering if the features chosen will differ greatly."
      ],
      "metadata": {
        "id": "IxR4KoMlaUSx"
      }
    },
    {
      "cell_type": "code",
      "source": [
        "from sklearn.pipeline import make_pipeline\n",
        "from sklearn.model_selection import KFold\n",
        "from sklearn.model_selection import StratifiedKFold\n",
        "import numpy as np\n",
        "from sklearn.model_selection import GridSearchCV\n",
        "from sklearn.preprocessing import StandardScaler\n",
        "from sklearn.linear_model import Lasso\n",
        "from sklearn.linear_model import LogisticRegression\n",
        "\n",
        "\n",
        "l1_X = final_df.drop(['happiness_level','name','Country or region',\n",
        "                         'sub-region','region','happiness','Average','High',\n",
        "                         'Low','Very High','Very Low'], axis=1)\n",
        "l1_y = final_df['happiness']\n",
        "\n",
        "l1_pipe = make_pipeline(StandardScaler(), LogisticRegression(penalty='l1', solver = 'liblinear', max_iter = 100000))\n",
        "\n",
        "param_grid = {\n",
        "    'logisticregression__C': [0.0001, 0.001,0.01, 0.1, 1, 10,100,1000]\n",
        "    }\n",
        "\n",
        "grid = GridSearchCV(l1_pipe, param_grid, cv=10)\n",
        "grid.fit(l1_X, l1_y)\n",
        "print(grid.best_params_)\n",
        "print(grid.best_score_)\n",
        "print(grid.best_estimator_.named_steps.logisticregression.coef_)\n",
        "\n",
        "l1_coefs = grid.best_estimator_.named_steps.logisticregression.coef_"
      ],
      "metadata": {
        "colab": {
          "base_uri": "https://localhost:8080/"
        },
        "id": "Q7v4tTHCW82-",
        "outputId": "f39c3ce0-e480-4fe3-91b9-e5f999d753cc"
      },
      "execution_count": 23,
      "outputs": [
        {
          "output_type": "stream",
          "name": "stdout",
          "text": [
            "{'logisticregression__C': 1}\n",
            "0.5805555555555555\n",
            "[[ 0.         -0.00415298  0.         -0.183252   -0.09742248 -0.11643614\n",
            "   0.          0.          0.12486822  0.06896341  0.2516206   0.\n",
            "   0.56830061  0.         -0.15695706  0.11253673 -0.2933524   0.61487088\n",
            "  -0.22851293  0.         -0.07148932  0.          0.          0.28430276\n",
            "   0.          0.        ]\n",
            " [ 0.20067125  1.26403703  0.78959083  0.4321775  -0.59317131 -0.60475928\n",
            "   0.         -0.00526337  0.44390193  0.17810509  0.3449052   0.6123502\n",
            "   0.         -0.07569814  0.          0.27260956 -0.02326278  0.\n",
            "   0.          0.         -0.42802453  0.          0.          0.20058598\n",
            "   0.         -0.01407144]\n",
            " [-0.02908921  0.         -0.03467741  0.         -0.50536345 -0.68571785\n",
            "  -1.05967747  0.          0.         -0.1041941  -0.30549566  0.\n",
            "  -0.0784735   0.          0.          0.47405928  0.6749489   0.\n",
            "   0.90427413  0.49050123  0.          0.          0.          0.\n",
            "  -0.01806054  0.        ]\n",
            " [ 1.94667947  0.          0.          0.0701254   1.26909374  0.66202011\n",
            "   0.          0.          0.          0.          0.          0.\n",
            "   0.          0.          0.08541885 -0.87284586  0.          0.\n",
            "   0.          0.          0.71523516  0.          0.23931584 -0.33191046\n",
            "   0.          0.        ]\n",
            " [-1.46096824 -0.28301792  0.         -0.25502403  0.21513377  0.33847878\n",
            "   1.04308103  0.         -0.10910082  0.          0.          0.\n",
            "   0.          0.          0.          0.19269571  0.25585368  0.\n",
            "   0.          0.          0.          0.30421628  0.          0.\n",
            "   0.          0.        ]]\n"
          ]
        }
      ]
    },
    {
      "cell_type": "code",
      "source": [
        "grid.classes_"
      ],
      "metadata": {
        "colab": {
          "base_uri": "https://localhost:8080/"
        },
        "id": "RmurWRF9P4PH",
        "outputId": "68f4e7f5-7ab8-492c-eb89-c6fe3c7cb1aa"
      },
      "execution_count": 24,
      "outputs": [
        {
          "output_type": "execute_result",
          "data": {
            "text/plain": [
              "array(['Average', 'High', 'Low', 'Very High', 'Very Low'], dtype=object)"
            ]
          },
          "metadata": {},
          "execution_count": 24
        }
      ]
    },
    {
      "cell_type": "markdown",
      "source": [
        "I didn't realize that the model would choose separate feature importances for each happiness category. Interesting. "
      ],
      "metadata": {
        "id": "_rCQ0sGDopd7"
      }
    },
    {
      "cell_type": "code",
      "source": [
        "l1_coefs[0]\n",
        "\n",
        "comp_l1 = pd.DataFrame(l1_X.columns, index=l1_X.columns)\n",
        "\n",
        "comp_l1[\"average\"] = l1_coefs[0]\n",
        "comp_l1[\"high\"] = l1_coefs[1]\n",
        "comp_l1[\"low\"] = l1_coefs[2]\n",
        "comp_l1[\"very high\"] = l1_coefs[3]\n",
        "comp_l1[\"very low\"] = l1_coefs[4]\n",
        "\n",
        "comp_l1\n",
        "#comp[abs(comp[\"lasso\"])>0].sort_values(by='lasso',ascending = False)"
      ],
      "metadata": {
        "colab": {
          "base_uri": "https://localhost:8080/",
          "height": 865
        },
        "id": "ek75B2yJPjns",
        "outputId": "a3470138-727c-488d-f39b-462d1f872a87"
      },
      "execution_count": 25,
      "outputs": [
        {
          "output_type": "execute_result",
          "data": {
            "text/plain": [
              "                                                                                     0  \\\n",
              "GDP per capita                                                          GDP per capita   \n",
              "Social support                                                          Social support   \n",
              "Healthy life expectancy                                        Healthy life expectancy   \n",
              "Freedom to make life choices                              Freedom to make life choices   \n",
              "Generosity                                                                  Generosity   \n",
              "Perceptions of corruption                                    Perceptions of corruption   \n",
              "Terrorist_attacks                                                    Terrorist_attacks   \n",
              "sub-region_Australia and New Zealand              sub-region_Australia and New Zealand   \n",
              "sub-region_Central Asia                                        sub-region_Central Asia   \n",
              "sub-region_Eastern Asia                                        sub-region_Eastern Asia   \n",
              "sub-region_Eastern Europe                                    sub-region_Eastern Europe   \n",
              "sub-region_Latin America and the Caribbean  sub-region_Latin America and the Caribbean   \n",
              "sub-region_Northern Africa                                  sub-region_Northern Africa   \n",
              "sub-region_Northern America                                sub-region_Northern America   \n",
              "sub-region_Northern Europe                                  sub-region_Northern Europe   \n",
              "sub-region_South-eastern Asia                            sub-region_South-eastern Asia   \n",
              "sub-region_Southern Asia                                      sub-region_Southern Asia   \n",
              "sub-region_Southern Europe                                  sub-region_Southern Europe   \n",
              "sub-region_Sub-Saharan Africa                            sub-region_Sub-Saharan Africa   \n",
              "sub-region_Western Asia                                        sub-region_Western Asia   \n",
              "sub-region_Western Europe                                    sub-region_Western Europe   \n",
              "region_Africa                                                            region_Africa   \n",
              "region_Americas                                                        region_Americas   \n",
              "region_Asia                                                                region_Asia   \n",
              "region_Europe                                                            region_Europe   \n",
              "region_Oceania                                                          region_Oceania   \n",
              "\n",
              "                                             average      high       low  \\\n",
              "GDP per capita                              0.000000  0.200671 -0.029089   \n",
              "Social support                             -0.004153  1.264037  0.000000   \n",
              "Healthy life expectancy                     0.000000  0.789591 -0.034677   \n",
              "Freedom to make life choices               -0.183252  0.432178  0.000000   \n",
              "Generosity                                 -0.097422 -0.593171 -0.505363   \n",
              "Perceptions of corruption                  -0.116436 -0.604759 -0.685718   \n",
              "Terrorist_attacks                           0.000000  0.000000 -1.059677   \n",
              "sub-region_Australia and New Zealand        0.000000 -0.005263  0.000000   \n",
              "sub-region_Central Asia                     0.124868  0.443902  0.000000   \n",
              "sub-region_Eastern Asia                     0.068963  0.178105 -0.104194   \n",
              "sub-region_Eastern Europe                   0.251621  0.344905 -0.305496   \n",
              "sub-region_Latin America and the Caribbean  0.000000  0.612350  0.000000   \n",
              "sub-region_Northern Africa                  0.568301  0.000000 -0.078473   \n",
              "sub-region_Northern America                 0.000000 -0.075698  0.000000   \n",
              "sub-region_Northern Europe                 -0.156957  0.000000  0.000000   \n",
              "sub-region_South-eastern Asia               0.112537  0.272610  0.474059   \n",
              "sub-region_Southern Asia                   -0.293352 -0.023263  0.674949   \n",
              "sub-region_Southern Europe                  0.614871  0.000000  0.000000   \n",
              "sub-region_Sub-Saharan Africa              -0.228513  0.000000  0.904274   \n",
              "sub-region_Western Asia                     0.000000  0.000000  0.490501   \n",
              "sub-region_Western Europe                  -0.071489 -0.428025  0.000000   \n",
              "region_Africa                               0.000000  0.000000  0.000000   \n",
              "region_Americas                             0.000000  0.000000  0.000000   \n",
              "region_Asia                                 0.284303  0.200586  0.000000   \n",
              "region_Europe                               0.000000  0.000000 -0.018061   \n",
              "region_Oceania                              0.000000 -0.014071  0.000000   \n",
              "\n",
              "                                            very high  very low  \n",
              "GDP per capita                               1.946679 -1.460968  \n",
              "Social support                               0.000000 -0.283018  \n",
              "Healthy life expectancy                      0.000000  0.000000  \n",
              "Freedom to make life choices                 0.070125 -0.255024  \n",
              "Generosity                                   1.269094  0.215134  \n",
              "Perceptions of corruption                    0.662020  0.338479  \n",
              "Terrorist_attacks                            0.000000  1.043081  \n",
              "sub-region_Australia and New Zealand         0.000000  0.000000  \n",
              "sub-region_Central Asia                      0.000000 -0.109101  \n",
              "sub-region_Eastern Asia                      0.000000  0.000000  \n",
              "sub-region_Eastern Europe                    0.000000  0.000000  \n",
              "sub-region_Latin America and the Caribbean   0.000000  0.000000  \n",
              "sub-region_Northern Africa                   0.000000  0.000000  \n",
              "sub-region_Northern America                  0.000000  0.000000  \n",
              "sub-region_Northern Europe                   0.085419  0.000000  \n",
              "sub-region_South-eastern Asia               -0.872846  0.192696  \n",
              "sub-region_Southern Asia                     0.000000  0.255854  \n",
              "sub-region_Southern Europe                   0.000000  0.000000  \n",
              "sub-region_Sub-Saharan Africa                0.000000  0.000000  \n",
              "sub-region_Western Asia                      0.000000  0.000000  \n",
              "sub-region_Western Europe                    0.715235  0.000000  \n",
              "region_Africa                                0.000000  0.304216  \n",
              "region_Americas                              0.239316  0.000000  \n",
              "region_Asia                                 -0.331910  0.000000  \n",
              "region_Europe                                0.000000  0.000000  \n",
              "region_Oceania                               0.000000  0.000000  "
            ],
            "text/html": [
              "\n",
              "  <div id=\"df-52d84d50-1da7-40b3-ad2e-8657652d80df\">\n",
              "    <div class=\"colab-df-container\">\n",
              "      <div>\n",
              "<style scoped>\n",
              "    .dataframe tbody tr th:only-of-type {\n",
              "        vertical-align: middle;\n",
              "    }\n",
              "\n",
              "    .dataframe tbody tr th {\n",
              "        vertical-align: top;\n",
              "    }\n",
              "\n",
              "    .dataframe thead th {\n",
              "        text-align: right;\n",
              "    }\n",
              "</style>\n",
              "<table border=\"1\" class=\"dataframe\">\n",
              "  <thead>\n",
              "    <tr style=\"text-align: right;\">\n",
              "      <th></th>\n",
              "      <th>0</th>\n",
              "      <th>average</th>\n",
              "      <th>high</th>\n",
              "      <th>low</th>\n",
              "      <th>very high</th>\n",
              "      <th>very low</th>\n",
              "    </tr>\n",
              "  </thead>\n",
              "  <tbody>\n",
              "    <tr>\n",
              "      <th>GDP per capita</th>\n",
              "      <td>GDP per capita</td>\n",
              "      <td>0.000000</td>\n",
              "      <td>0.200671</td>\n",
              "      <td>-0.029089</td>\n",
              "      <td>1.946679</td>\n",
              "      <td>-1.460968</td>\n",
              "    </tr>\n",
              "    <tr>\n",
              "      <th>Social support</th>\n",
              "      <td>Social support</td>\n",
              "      <td>-0.004153</td>\n",
              "      <td>1.264037</td>\n",
              "      <td>0.000000</td>\n",
              "      <td>0.000000</td>\n",
              "      <td>-0.283018</td>\n",
              "    </tr>\n",
              "    <tr>\n",
              "      <th>Healthy life expectancy</th>\n",
              "      <td>Healthy life expectancy</td>\n",
              "      <td>0.000000</td>\n",
              "      <td>0.789591</td>\n",
              "      <td>-0.034677</td>\n",
              "      <td>0.000000</td>\n",
              "      <td>0.000000</td>\n",
              "    </tr>\n",
              "    <tr>\n",
              "      <th>Freedom to make life choices</th>\n",
              "      <td>Freedom to make life choices</td>\n",
              "      <td>-0.183252</td>\n",
              "      <td>0.432178</td>\n",
              "      <td>0.000000</td>\n",
              "      <td>0.070125</td>\n",
              "      <td>-0.255024</td>\n",
              "    </tr>\n",
              "    <tr>\n",
              "      <th>Generosity</th>\n",
              "      <td>Generosity</td>\n",
              "      <td>-0.097422</td>\n",
              "      <td>-0.593171</td>\n",
              "      <td>-0.505363</td>\n",
              "      <td>1.269094</td>\n",
              "      <td>0.215134</td>\n",
              "    </tr>\n",
              "    <tr>\n",
              "      <th>Perceptions of corruption</th>\n",
              "      <td>Perceptions of corruption</td>\n",
              "      <td>-0.116436</td>\n",
              "      <td>-0.604759</td>\n",
              "      <td>-0.685718</td>\n",
              "      <td>0.662020</td>\n",
              "      <td>0.338479</td>\n",
              "    </tr>\n",
              "    <tr>\n",
              "      <th>Terrorist_attacks</th>\n",
              "      <td>Terrorist_attacks</td>\n",
              "      <td>0.000000</td>\n",
              "      <td>0.000000</td>\n",
              "      <td>-1.059677</td>\n",
              "      <td>0.000000</td>\n",
              "      <td>1.043081</td>\n",
              "    </tr>\n",
              "    <tr>\n",
              "      <th>sub-region_Australia and New Zealand</th>\n",
              "      <td>sub-region_Australia and New Zealand</td>\n",
              "      <td>0.000000</td>\n",
              "      <td>-0.005263</td>\n",
              "      <td>0.000000</td>\n",
              "      <td>0.000000</td>\n",
              "      <td>0.000000</td>\n",
              "    </tr>\n",
              "    <tr>\n",
              "      <th>sub-region_Central Asia</th>\n",
              "      <td>sub-region_Central Asia</td>\n",
              "      <td>0.124868</td>\n",
              "      <td>0.443902</td>\n",
              "      <td>0.000000</td>\n",
              "      <td>0.000000</td>\n",
              "      <td>-0.109101</td>\n",
              "    </tr>\n",
              "    <tr>\n",
              "      <th>sub-region_Eastern Asia</th>\n",
              "      <td>sub-region_Eastern Asia</td>\n",
              "      <td>0.068963</td>\n",
              "      <td>0.178105</td>\n",
              "      <td>-0.104194</td>\n",
              "      <td>0.000000</td>\n",
              "      <td>0.000000</td>\n",
              "    </tr>\n",
              "    <tr>\n",
              "      <th>sub-region_Eastern Europe</th>\n",
              "      <td>sub-region_Eastern Europe</td>\n",
              "      <td>0.251621</td>\n",
              "      <td>0.344905</td>\n",
              "      <td>-0.305496</td>\n",
              "      <td>0.000000</td>\n",
              "      <td>0.000000</td>\n",
              "    </tr>\n",
              "    <tr>\n",
              "      <th>sub-region_Latin America and the Caribbean</th>\n",
              "      <td>sub-region_Latin America and the Caribbean</td>\n",
              "      <td>0.000000</td>\n",
              "      <td>0.612350</td>\n",
              "      <td>0.000000</td>\n",
              "      <td>0.000000</td>\n",
              "      <td>0.000000</td>\n",
              "    </tr>\n",
              "    <tr>\n",
              "      <th>sub-region_Northern Africa</th>\n",
              "      <td>sub-region_Northern Africa</td>\n",
              "      <td>0.568301</td>\n",
              "      <td>0.000000</td>\n",
              "      <td>-0.078473</td>\n",
              "      <td>0.000000</td>\n",
              "      <td>0.000000</td>\n",
              "    </tr>\n",
              "    <tr>\n",
              "      <th>sub-region_Northern America</th>\n",
              "      <td>sub-region_Northern America</td>\n",
              "      <td>0.000000</td>\n",
              "      <td>-0.075698</td>\n",
              "      <td>0.000000</td>\n",
              "      <td>0.000000</td>\n",
              "      <td>0.000000</td>\n",
              "    </tr>\n",
              "    <tr>\n",
              "      <th>sub-region_Northern Europe</th>\n",
              "      <td>sub-region_Northern Europe</td>\n",
              "      <td>-0.156957</td>\n",
              "      <td>0.000000</td>\n",
              "      <td>0.000000</td>\n",
              "      <td>0.085419</td>\n",
              "      <td>0.000000</td>\n",
              "    </tr>\n",
              "    <tr>\n",
              "      <th>sub-region_South-eastern Asia</th>\n",
              "      <td>sub-region_South-eastern Asia</td>\n",
              "      <td>0.112537</td>\n",
              "      <td>0.272610</td>\n",
              "      <td>0.474059</td>\n",
              "      <td>-0.872846</td>\n",
              "      <td>0.192696</td>\n",
              "    </tr>\n",
              "    <tr>\n",
              "      <th>sub-region_Southern Asia</th>\n",
              "      <td>sub-region_Southern Asia</td>\n",
              "      <td>-0.293352</td>\n",
              "      <td>-0.023263</td>\n",
              "      <td>0.674949</td>\n",
              "      <td>0.000000</td>\n",
              "      <td>0.255854</td>\n",
              "    </tr>\n",
              "    <tr>\n",
              "      <th>sub-region_Southern Europe</th>\n",
              "      <td>sub-region_Southern Europe</td>\n",
              "      <td>0.614871</td>\n",
              "      <td>0.000000</td>\n",
              "      <td>0.000000</td>\n",
              "      <td>0.000000</td>\n",
              "      <td>0.000000</td>\n",
              "    </tr>\n",
              "    <tr>\n",
              "      <th>sub-region_Sub-Saharan Africa</th>\n",
              "      <td>sub-region_Sub-Saharan Africa</td>\n",
              "      <td>-0.228513</td>\n",
              "      <td>0.000000</td>\n",
              "      <td>0.904274</td>\n",
              "      <td>0.000000</td>\n",
              "      <td>0.000000</td>\n",
              "    </tr>\n",
              "    <tr>\n",
              "      <th>sub-region_Western Asia</th>\n",
              "      <td>sub-region_Western Asia</td>\n",
              "      <td>0.000000</td>\n",
              "      <td>0.000000</td>\n",
              "      <td>0.490501</td>\n",
              "      <td>0.000000</td>\n",
              "      <td>0.000000</td>\n",
              "    </tr>\n",
              "    <tr>\n",
              "      <th>sub-region_Western Europe</th>\n",
              "      <td>sub-region_Western Europe</td>\n",
              "      <td>-0.071489</td>\n",
              "      <td>-0.428025</td>\n",
              "      <td>0.000000</td>\n",
              "      <td>0.715235</td>\n",
              "      <td>0.000000</td>\n",
              "    </tr>\n",
              "    <tr>\n",
              "      <th>region_Africa</th>\n",
              "      <td>region_Africa</td>\n",
              "      <td>0.000000</td>\n",
              "      <td>0.000000</td>\n",
              "      <td>0.000000</td>\n",
              "      <td>0.000000</td>\n",
              "      <td>0.304216</td>\n",
              "    </tr>\n",
              "    <tr>\n",
              "      <th>region_Americas</th>\n",
              "      <td>region_Americas</td>\n",
              "      <td>0.000000</td>\n",
              "      <td>0.000000</td>\n",
              "      <td>0.000000</td>\n",
              "      <td>0.239316</td>\n",
              "      <td>0.000000</td>\n",
              "    </tr>\n",
              "    <tr>\n",
              "      <th>region_Asia</th>\n",
              "      <td>region_Asia</td>\n",
              "      <td>0.284303</td>\n",
              "      <td>0.200586</td>\n",
              "      <td>0.000000</td>\n",
              "      <td>-0.331910</td>\n",
              "      <td>0.000000</td>\n",
              "    </tr>\n",
              "    <tr>\n",
              "      <th>region_Europe</th>\n",
              "      <td>region_Europe</td>\n",
              "      <td>0.000000</td>\n",
              "      <td>0.000000</td>\n",
              "      <td>-0.018061</td>\n",
              "      <td>0.000000</td>\n",
              "      <td>0.000000</td>\n",
              "    </tr>\n",
              "    <tr>\n",
              "      <th>region_Oceania</th>\n",
              "      <td>region_Oceania</td>\n",
              "      <td>0.000000</td>\n",
              "      <td>-0.014071</td>\n",
              "      <td>0.000000</td>\n",
              "      <td>0.000000</td>\n",
              "      <td>0.000000</td>\n",
              "    </tr>\n",
              "  </tbody>\n",
              "</table>\n",
              "</div>\n",
              "      <button class=\"colab-df-convert\" onclick=\"convertToInteractive('df-52d84d50-1da7-40b3-ad2e-8657652d80df')\"\n",
              "              title=\"Convert this dataframe to an interactive table.\"\n",
              "              style=\"display:none;\">\n",
              "        \n",
              "  <svg xmlns=\"http://www.w3.org/2000/svg\" height=\"24px\"viewBox=\"0 0 24 24\"\n",
              "       width=\"24px\">\n",
              "    <path d=\"M0 0h24v24H0V0z\" fill=\"none\"/>\n",
              "    <path d=\"M18.56 5.44l.94 2.06.94-2.06 2.06-.94-2.06-.94-.94-2.06-.94 2.06-2.06.94zm-11 1L8.5 8.5l.94-2.06 2.06-.94-2.06-.94L8.5 2.5l-.94 2.06-2.06.94zm10 10l.94 2.06.94-2.06 2.06-.94-2.06-.94-.94-2.06-.94 2.06-2.06.94z\"/><path d=\"M17.41 7.96l-1.37-1.37c-.4-.4-.92-.59-1.43-.59-.52 0-1.04.2-1.43.59L10.3 9.45l-7.72 7.72c-.78.78-.78 2.05 0 2.83L4 21.41c.39.39.9.59 1.41.59.51 0 1.02-.2 1.41-.59l7.78-7.78 2.81-2.81c.8-.78.8-2.07 0-2.86zM5.41 20L4 18.59l7.72-7.72 1.47 1.35L5.41 20z\"/>\n",
              "  </svg>\n",
              "      </button>\n",
              "      \n",
              "  <style>\n",
              "    .colab-df-container {\n",
              "      display:flex;\n",
              "      flex-wrap:wrap;\n",
              "      gap: 12px;\n",
              "    }\n",
              "\n",
              "    .colab-df-convert {\n",
              "      background-color: #E8F0FE;\n",
              "      border: none;\n",
              "      border-radius: 50%;\n",
              "      cursor: pointer;\n",
              "      display: none;\n",
              "      fill: #1967D2;\n",
              "      height: 32px;\n",
              "      padding: 0 0 0 0;\n",
              "      width: 32px;\n",
              "    }\n",
              "\n",
              "    .colab-df-convert:hover {\n",
              "      background-color: #E2EBFA;\n",
              "      box-shadow: 0px 1px 2px rgba(60, 64, 67, 0.3), 0px 1px 3px 1px rgba(60, 64, 67, 0.15);\n",
              "      fill: #174EA6;\n",
              "    }\n",
              "\n",
              "    [theme=dark] .colab-df-convert {\n",
              "      background-color: #3B4455;\n",
              "      fill: #D2E3FC;\n",
              "    }\n",
              "\n",
              "    [theme=dark] .colab-df-convert:hover {\n",
              "      background-color: #434B5C;\n",
              "      box-shadow: 0px 1px 3px 1px rgba(0, 0, 0, 0.15);\n",
              "      filter: drop-shadow(0px 1px 2px rgba(0, 0, 0, 0.3));\n",
              "      fill: #FFFFFF;\n",
              "    }\n",
              "  </style>\n",
              "\n",
              "      <script>\n",
              "        const buttonEl =\n",
              "          document.querySelector('#df-52d84d50-1da7-40b3-ad2e-8657652d80df button.colab-df-convert');\n",
              "        buttonEl.style.display =\n",
              "          google.colab.kernel.accessAllowed ? 'block' : 'none';\n",
              "\n",
              "        async function convertToInteractive(key) {\n",
              "          const element = document.querySelector('#df-52d84d50-1da7-40b3-ad2e-8657652d80df');\n",
              "          const dataTable =\n",
              "            await google.colab.kernel.invokeFunction('convertToInteractive',\n",
              "                                                     [key], {});\n",
              "          if (!dataTable) return;\n",
              "\n",
              "          const docLinkHtml = 'Like what you see? Visit the ' +\n",
              "            '<a target=\"_blank\" href=https://colab.research.google.com/notebooks/data_table.ipynb>data table notebook</a>'\n",
              "            + ' to learn more about interactive tables.';\n",
              "          element.innerHTML = '';\n",
              "          dataTable['output_type'] = 'display_data';\n",
              "          await google.colab.output.renderOutput(dataTable, element);\n",
              "          const docLink = document.createElement('div');\n",
              "          docLink.innerHTML = docLinkHtml;\n",
              "          element.appendChild(docLink);\n",
              "        }\n",
              "      </script>\n",
              "    </div>\n",
              "  </div>\n",
              "  "
            ]
          },
          "metadata": {},
          "execution_count": 25
        }
      ]
    },
    {
      "cell_type": "markdown",
      "source": [
        "Interesting how each category has such different important features. Makes me think that it's best to just go with including every feature to start with."
      ],
      "metadata": {
        "id": "jx7vklZcR3Ly"
      }
    },
    {
      "cell_type": "markdown",
      "source": [
        "#Experiment with different prediction models to try to predict World Happiness well (Fit and compare, at minimum, three models):\n",
        "\n",
        "1.   Submit three models to the model share leaderboard before you start communicating with your team.\n",
        "2.   After you submit your first three models, describe your best model with your team via your team slack channel\n",
        "3. Fit and submit up to three more models after learning from your team.\n",
        "4. Discuss which models you tried and which models performed better and point out relevant hyper-parameter values for successful models.\n",
        "5. Submit your best models to the leaderboard for the World Happiness AI Model Share competition.\n",
        "6. \n",
        "You have the option to present and/or discuss these models in your report, but it is not required.\n",
        "\n"
      ],
      "metadata": {
        "id": "wp5iNc-DUktz"
      }
    },
    {
      "cell_type": "markdown",
      "source": [
        "## 1. Submit three models to the model share leaderboard before you start communicating with your team\n",
        "\n",
        "The first model I submitted was a support vector machine without any grid search that had been my best performing modelf rom the Titanic data challenge. I didn't change the preprocessor at all. I just wanted to see how it would do without making any changes."
      ],
      "metadata": {
        "id": "V0iSxzYEbVmE"
      }
    },
    {
      "cell_type": "code",
      "source": [
        "from sklearn.preprocessing import StandardScaler, OneHotEncoder\n",
        "from sklearn.compose import ColumnTransformer, make_column_transformer\n",
        "from sklearn.pipeline import Pipeline\n",
        "from sklearn.impute import SimpleImputer\n",
        "from sklearn.preprocessing import StandardScaler, OneHotEncoder\n",
        "\n",
        "# We create the preprocessing pipelines for both numeric and categorical data.\n",
        "\n",
        "numeric_features = X_train.drop(['Country or region', 'name', 'region', 'sub-region',], axis=1)\n",
        "numeric_features=numeric_features.columns.tolist()\n",
        "\n",
        "numeric_transformer = Pipeline(steps=[\n",
        "    ('imputer', SimpleImputer(strategy='median')),\n",
        "    ('scaler', StandardScaler())])\n",
        "\n",
        "categorical_features = ['region', 'sub-region']\n",
        "\n",
        "#Replacing missing values with Modal value and then one hot encoding.\n",
        "categorical_transformer = Pipeline(steps=[\n",
        "    ('imputer', SimpleImputer(strategy='most_frequent')),\n",
        "    ('onehot', OneHotEncoder(handle_unknown='ignore'))])\n",
        "\n",
        "# final preprocessor object set up with ColumnTransformer\n",
        "preprocessor = ColumnTransformer(\n",
        "    transformers=[\n",
        "        ('num', numeric_transformer, numeric_features),\n",
        "        ('cat', categorical_transformer, categorical_features)])\n",
        "\n",
        "#Fit your preprocessor object\n",
        "preprocess=preprocessor.fit(X_train) "
      ],
      "metadata": {
        "id": "RWqb5iCXbEGO"
      },
      "execution_count": 26,
      "outputs": []
    },
    {
      "cell_type": "code",
      "source": [
        "# Write function to transform data with preprocessor\n",
        "\n",
        "def preprocessor(data):\n",
        "    data.drop(['Country or region', 'name'], axis=1)\n",
        "    preprocessed_data=preprocess.transform(data)\n",
        "    return preprocessed_data"
      ],
      "metadata": {
        "id": "Wrux2BoXb8na"
      },
      "execution_count": 27,
      "outputs": []
    },
    {
      "cell_type": "code",
      "source": [
        "from sklearn.svm import SVC\n",
        "\n",
        "svec = SVC(class_weight='balanced',C=5)\n",
        "\n",
        "param_grid = {\n",
        "              }\n",
        "\n",
        "svec_pipe = make_pipeline(svec)\n",
        "kfold = KFold(n_splits=4)\n",
        "grid = GridSearchCV(svec_pipe, param_grid, cv=kfold)\n",
        "\n",
        "grid.fit(preprocessor(X_train), y_train_labels)\n",
        "\n",
        "print(\"Parameters chosen:\",grid.best_params_)\n",
        "print(\"Cross validation score: {:.4f}\".format(grid.best_score_))\n",
        "grid.score(preprocessor(X_train), y_train_labels) # Fit score, 0-1 scale."
      ],
      "metadata": {
        "colab": {
          "base_uri": "https://localhost:8080/"
        },
        "id": "xkfUTgGXcJVz",
        "outputId": "816c5b41-e1ab-45c7-8e3c-5f844fdc0ba2"
      },
      "execution_count": 28,
      "outputs": [
        {
          "output_type": "stream",
          "name": "stdout",
          "text": [
            "Parameters chosen: {}\n",
            "Cross validation score: 0.5795\n"
          ]
        },
        {
          "output_type": "execute_result",
          "data": {
            "text/plain": [
              "0.9318181818181818"
            ]
          },
          "metadata": {},
          "execution_count": 28
        }
      ]
    },
    {
      "cell_type": "markdown",
      "source": [
        "The model is clearly overfit based on the overall accuracy vs. the cross-validation score. I submitted it to the leaderboard and it actually did surprisingly well compared to other models. This is model #14"
      ],
      "metadata": {
        "id": "4a6e5uvNdQFP"
      }
    },
    {
      "cell_type": "markdown",
      "source": [
        "### Keras\n",
        "I tried out using a keras model and submitted that as #67. It didn't perform very well."
      ],
      "metadata": {
        "id": "xpB9JP9MgmVo"
      }
    },
    {
      "cell_type": "code",
      "source": [
        "import keras\n",
        "from keras.models import Sequential\n",
        "from keras.layers import Dense, Activation\n",
        "\n",
        "feature_count=preprocessor(X_train).shape[1] #count features in input data\n",
        "\n",
        "keras_model = Sequential()\n",
        "keras_model.add(Dense(24, input_dim=feature_count, activation='relu'))\n",
        "keras_model.add(Dense(12, activation='relu'))\n",
        "keras_model.add(Dense(12, activation='relu'))\n",
        "keras_model.add(Dense(16, activation='relu'))\n",
        "\n",
        "keras_model.add(Dense(5, activation='softmax')) \n",
        "                                            \n",
        "# Compile model\n",
        "keras_model.compile(loss='categorical_crossentropy', optimizer='sgd', metrics=['accuracy'])\n",
        "\n",
        "# Fitting the NN to the Training set\n",
        "keras_model.fit(preprocessor(X_train), y_train, ## Note that keras models require a one-hot-encoded y_train object\n",
        "               batch_size = 30, \n",
        "               epochs = 300, validation_split=0.5)  "
      ],
      "metadata": {
        "colab": {
          "base_uri": "https://localhost:8080/"
        },
        "id": "ndDTbl3sgIIy",
        "outputId": "fd48b5dd-0581-4c56-c8c6-926beddc03f3"
      },
      "execution_count": 29,
      "outputs": [
        {
          "output_type": "stream",
          "name": "stdout",
          "text": [
            "Epoch 1/300\n",
            "2/2 [==============================] - 1s 307ms/step - loss: 1.6146 - accuracy: 0.1364 - val_loss: 1.5628 - val_accuracy: 0.2500\n",
            "Epoch 2/300\n",
            "2/2 [==============================] - 0s 37ms/step - loss: 1.6115 - accuracy: 0.1364 - val_loss: 1.5609 - val_accuracy: 0.2500\n",
            "Epoch 3/300\n",
            "2/2 [==============================] - 0s 37ms/step - loss: 1.6079 - accuracy: 0.1591 - val_loss: 1.5594 - val_accuracy: 0.2500\n",
            "Epoch 4/300\n",
            "2/2 [==============================] - 0s 42ms/step - loss: 1.6049 - accuracy: 0.1591 - val_loss: 1.5581 - val_accuracy: 0.2727\n",
            "Epoch 5/300\n",
            "2/2 [==============================] - 0s 43ms/step - loss: 1.6021 - accuracy: 0.1591 - val_loss: 1.5568 - val_accuracy: 0.2955\n",
            "Epoch 6/300\n",
            "2/2 [==============================] - 0s 36ms/step - loss: 1.5990 - accuracy: 0.1591 - val_loss: 1.5548 - val_accuracy: 0.3182\n",
            "Epoch 7/300\n",
            "2/2 [==============================] - 0s 66ms/step - loss: 1.5960 - accuracy: 0.2045 - val_loss: 1.5530 - val_accuracy: 0.3182\n",
            "Epoch 8/300\n",
            "2/2 [==============================] - 0s 37ms/step - loss: 1.5937 - accuracy: 0.2045 - val_loss: 1.5517 - val_accuracy: 0.3182\n",
            "Epoch 9/300\n",
            "2/2 [==============================] - 0s 61ms/step - loss: 1.5906 - accuracy: 0.2045 - val_loss: 1.5505 - val_accuracy: 0.3182\n",
            "Epoch 10/300\n",
            "2/2 [==============================] - 0s 36ms/step - loss: 1.5873 - accuracy: 0.2273 - val_loss: 1.5490 - val_accuracy: 0.2955\n",
            "Epoch 11/300\n",
            "2/2 [==============================] - 0s 38ms/step - loss: 1.5846 - accuracy: 0.2500 - val_loss: 1.5473 - val_accuracy: 0.2727\n",
            "Epoch 12/300\n",
            "2/2 [==============================] - 0s 41ms/step - loss: 1.5812 - accuracy: 0.2500 - val_loss: 1.5462 - val_accuracy: 0.2727\n",
            "Epoch 13/300\n",
            "2/2 [==============================] - 0s 40ms/step - loss: 1.5783 - accuracy: 0.2500 - val_loss: 1.5454 - val_accuracy: 0.2727\n",
            "Epoch 14/300\n",
            "2/2 [==============================] - 0s 66ms/step - loss: 1.5750 - accuracy: 0.2500 - val_loss: 1.5439 - val_accuracy: 0.3182\n",
            "Epoch 15/300\n",
            "2/2 [==============================] - 0s 51ms/step - loss: 1.5719 - accuracy: 0.2500 - val_loss: 1.5423 - val_accuracy: 0.3409\n",
            "Epoch 16/300\n",
            "2/2 [==============================] - 0s 44ms/step - loss: 1.5690 - accuracy: 0.2727 - val_loss: 1.5409 - val_accuracy: 0.3636\n",
            "Epoch 17/300\n",
            "2/2 [==============================] - 0s 37ms/step - loss: 1.5660 - accuracy: 0.2727 - val_loss: 1.5393 - val_accuracy: 0.3636\n",
            "Epoch 18/300\n",
            "2/2 [==============================] - 0s 36ms/step - loss: 1.5633 - accuracy: 0.2727 - val_loss: 1.5380 - val_accuracy: 0.3864\n",
            "Epoch 19/300\n",
            "2/2 [==============================] - 0s 44ms/step - loss: 1.5606 - accuracy: 0.2500 - val_loss: 1.5367 - val_accuracy: 0.3864\n",
            "Epoch 20/300\n",
            "2/2 [==============================] - 0s 40ms/step - loss: 1.5580 - accuracy: 0.2500 - val_loss: 1.5350 - val_accuracy: 0.3636\n",
            "Epoch 21/300\n",
            "2/2 [==============================] - 0s 53ms/step - loss: 1.5550 - accuracy: 0.2500 - val_loss: 1.5338 - val_accuracy: 0.3636\n",
            "Epoch 22/300\n",
            "2/2 [==============================] - 0s 54ms/step - loss: 1.5524 - accuracy: 0.2500 - val_loss: 1.5325 - val_accuracy: 0.3636\n",
            "Epoch 23/300\n",
            "2/2 [==============================] - 0s 25ms/step - loss: 1.5498 - accuracy: 0.2500 - val_loss: 1.5304 - val_accuracy: 0.3636\n",
            "Epoch 24/300\n",
            "2/2 [==============================] - 0s 25ms/step - loss: 1.5464 - accuracy: 0.2727 - val_loss: 1.5292 - val_accuracy: 0.3636\n",
            "Epoch 25/300\n",
            "2/2 [==============================] - 0s 26ms/step - loss: 1.5439 - accuracy: 0.2727 - val_loss: 1.5280 - val_accuracy: 0.3636\n",
            "Epoch 26/300\n",
            "2/2 [==============================] - 0s 33ms/step - loss: 1.5413 - accuracy: 0.2955 - val_loss: 1.5265 - val_accuracy: 0.3636\n",
            "Epoch 27/300\n",
            "2/2 [==============================] - 0s 32ms/step - loss: 1.5386 - accuracy: 0.3182 - val_loss: 1.5255 - val_accuracy: 0.3864\n",
            "Epoch 28/300\n",
            "2/2 [==============================] - 0s 26ms/step - loss: 1.5359 - accuracy: 0.3182 - val_loss: 1.5242 - val_accuracy: 0.3636\n",
            "Epoch 29/300\n",
            "2/2 [==============================] - 0s 26ms/step - loss: 1.5332 - accuracy: 0.3182 - val_loss: 1.5225 - val_accuracy: 0.3864\n",
            "Epoch 30/300\n",
            "2/2 [==============================] - 0s 30ms/step - loss: 1.5306 - accuracy: 0.3409 - val_loss: 1.5216 - val_accuracy: 0.3864\n",
            "Epoch 31/300\n",
            "2/2 [==============================] - 0s 30ms/step - loss: 1.5278 - accuracy: 0.3182 - val_loss: 1.5205 - val_accuracy: 0.3636\n",
            "Epoch 32/300\n",
            "2/2 [==============================] - 0s 27ms/step - loss: 1.5250 - accuracy: 0.3182 - val_loss: 1.5193 - val_accuracy: 0.3409\n",
            "Epoch 33/300\n",
            "2/2 [==============================] - 0s 25ms/step - loss: 1.5226 - accuracy: 0.3182 - val_loss: 1.5182 - val_accuracy: 0.3182\n",
            "Epoch 34/300\n",
            "2/2 [==============================] - 0s 26ms/step - loss: 1.5197 - accuracy: 0.3182 - val_loss: 1.5167 - val_accuracy: 0.3182\n",
            "Epoch 35/300\n",
            "2/2 [==============================] - 0s 27ms/step - loss: 1.5169 - accuracy: 0.3409 - val_loss: 1.5156 - val_accuracy: 0.3182\n",
            "Epoch 36/300\n",
            "2/2 [==============================] - 0s 29ms/step - loss: 1.5140 - accuracy: 0.3409 - val_loss: 1.5141 - val_accuracy: 0.3182\n",
            "Epoch 37/300\n",
            "2/2 [==============================] - 0s 36ms/step - loss: 1.5114 - accuracy: 0.3409 - val_loss: 1.5128 - val_accuracy: 0.3182\n",
            "Epoch 38/300\n",
            "2/2 [==============================] - 0s 27ms/step - loss: 1.5086 - accuracy: 0.3409 - val_loss: 1.5117 - val_accuracy: 0.3182\n",
            "Epoch 39/300\n",
            "2/2 [==============================] - 0s 30ms/step - loss: 1.5059 - accuracy: 0.3409 - val_loss: 1.5105 - val_accuracy: 0.3182\n",
            "Epoch 40/300\n",
            "2/2 [==============================] - 0s 26ms/step - loss: 1.5032 - accuracy: 0.3409 - val_loss: 1.5093 - val_accuracy: 0.3182\n",
            "Epoch 41/300\n",
            "2/2 [==============================] - 0s 26ms/step - loss: 1.5007 - accuracy: 0.3409 - val_loss: 1.5082 - val_accuracy: 0.3182\n",
            "Epoch 42/300\n",
            "2/2 [==============================] - 0s 32ms/step - loss: 1.4978 - accuracy: 0.3636 - val_loss: 1.5069 - val_accuracy: 0.2955\n",
            "Epoch 43/300\n",
            "2/2 [==============================] - 0s 27ms/step - loss: 1.4952 - accuracy: 0.3636 - val_loss: 1.5059 - val_accuracy: 0.2955\n",
            "Epoch 44/300\n",
            "2/2 [==============================] - 0s 25ms/step - loss: 1.4922 - accuracy: 0.3636 - val_loss: 1.5051 - val_accuracy: 0.2955\n",
            "Epoch 45/300\n",
            "2/2 [==============================] - 0s 29ms/step - loss: 1.4900 - accuracy: 0.3409 - val_loss: 1.5036 - val_accuracy: 0.2955\n",
            "Epoch 46/300\n",
            "2/2 [==============================] - 0s 27ms/step - loss: 1.4868 - accuracy: 0.3409 - val_loss: 1.5022 - val_accuracy: 0.2955\n",
            "Epoch 47/300\n",
            "2/2 [==============================] - 0s 30ms/step - loss: 1.4837 - accuracy: 0.3409 - val_loss: 1.5008 - val_accuracy: 0.2955\n",
            "Epoch 48/300\n",
            "2/2 [==============================] - 0s 27ms/step - loss: 1.4808 - accuracy: 0.3409 - val_loss: 1.4999 - val_accuracy: 0.2955\n",
            "Epoch 49/300\n",
            "2/2 [==============================] - 0s 25ms/step - loss: 1.4781 - accuracy: 0.3409 - val_loss: 1.4985 - val_accuracy: 0.2955\n",
            "Epoch 50/300\n",
            "2/2 [==============================] - 0s 42ms/step - loss: 1.4754 - accuracy: 0.3409 - val_loss: 1.4973 - val_accuracy: 0.2955\n",
            "Epoch 51/300\n",
            "2/2 [==============================] - 0s 27ms/step - loss: 1.4729 - accuracy: 0.3409 - val_loss: 1.4958 - val_accuracy: 0.2955\n",
            "Epoch 52/300\n",
            "2/2 [==============================] - 0s 27ms/step - loss: 1.4699 - accuracy: 0.3409 - val_loss: 1.4944 - val_accuracy: 0.2955\n",
            "Epoch 53/300\n",
            "2/2 [==============================] - 0s 35ms/step - loss: 1.4670 - accuracy: 0.3409 - val_loss: 1.4931 - val_accuracy: 0.2955\n",
            "Epoch 54/300\n",
            "2/2 [==============================] - 0s 32ms/step - loss: 1.4643 - accuracy: 0.3409 - val_loss: 1.4921 - val_accuracy: 0.2727\n",
            "Epoch 55/300\n",
            "2/2 [==============================] - 0s 25ms/step - loss: 1.4614 - accuracy: 0.3409 - val_loss: 1.4912 - val_accuracy: 0.2727\n",
            "Epoch 56/300\n",
            "2/2 [==============================] - 0s 29ms/step - loss: 1.4586 - accuracy: 0.3409 - val_loss: 1.4904 - val_accuracy: 0.2727\n",
            "Epoch 57/300\n",
            "2/2 [==============================] - 0s 31ms/step - loss: 1.4558 - accuracy: 0.3409 - val_loss: 1.4897 - val_accuracy: 0.2727\n",
            "Epoch 58/300\n",
            "2/2 [==============================] - 0s 25ms/step - loss: 1.4521 - accuracy: 0.3409 - val_loss: 1.4885 - val_accuracy: 0.2727\n",
            "Epoch 59/300\n",
            "2/2 [==============================] - 0s 25ms/step - loss: 1.4490 - accuracy: 0.3409 - val_loss: 1.4872 - val_accuracy: 0.2727\n",
            "Epoch 60/300\n",
            "2/2 [==============================] - 0s 27ms/step - loss: 1.4460 - accuracy: 0.3409 - val_loss: 1.4864 - val_accuracy: 0.2727\n",
            "Epoch 61/300\n",
            "2/2 [==============================] - 0s 34ms/step - loss: 1.4430 - accuracy: 0.3409 - val_loss: 1.4856 - val_accuracy: 0.2500\n",
            "Epoch 62/300\n",
            "2/2 [==============================] - 0s 26ms/step - loss: 1.4401 - accuracy: 0.3409 - val_loss: 1.4842 - val_accuracy: 0.2500\n",
            "Epoch 63/300\n",
            "2/2 [==============================] - 0s 26ms/step - loss: 1.4369 - accuracy: 0.3409 - val_loss: 1.4830 - val_accuracy: 0.2500\n",
            "Epoch 64/300\n",
            "2/2 [==============================] - 0s 26ms/step - loss: 1.4338 - accuracy: 0.3409 - val_loss: 1.4821 - val_accuracy: 0.2500\n",
            "Epoch 65/300\n",
            "2/2 [==============================] - 0s 26ms/step - loss: 1.4309 - accuracy: 0.3182 - val_loss: 1.4814 - val_accuracy: 0.2045\n",
            "Epoch 66/300\n",
            "2/2 [==============================] - 0s 30ms/step - loss: 1.4270 - accuracy: 0.3182 - val_loss: 1.4800 - val_accuracy: 0.2045\n",
            "Epoch 67/300\n",
            "2/2 [==============================] - 0s 30ms/step - loss: 1.4237 - accuracy: 0.3182 - val_loss: 1.4787 - val_accuracy: 0.2045\n",
            "Epoch 68/300\n",
            "2/2 [==============================] - 0s 26ms/step - loss: 1.4208 - accuracy: 0.3182 - val_loss: 1.4767 - val_accuracy: 0.2045\n",
            "Epoch 69/300\n",
            "2/2 [==============================] - 0s 26ms/step - loss: 1.4177 - accuracy: 0.3182 - val_loss: 1.4749 - val_accuracy: 0.2500\n",
            "Epoch 70/300\n",
            "2/2 [==============================] - 0s 30ms/step - loss: 1.4143 - accuracy: 0.3182 - val_loss: 1.4738 - val_accuracy: 0.2045\n",
            "Epoch 71/300\n",
            "2/2 [==============================] - 0s 28ms/step - loss: 1.4113 - accuracy: 0.3182 - val_loss: 1.4721 - val_accuracy: 0.2273\n",
            "Epoch 72/300\n",
            "2/2 [==============================] - 0s 27ms/step - loss: 1.4084 - accuracy: 0.3182 - val_loss: 1.4702 - val_accuracy: 0.2500\n",
            "Epoch 73/300\n",
            "2/2 [==============================] - 0s 30ms/step - loss: 1.4048 - accuracy: 0.3182 - val_loss: 1.4693 - val_accuracy: 0.2273\n",
            "Epoch 74/300\n",
            "2/2 [==============================] - 0s 46ms/step - loss: 1.4013 - accuracy: 0.3182 - val_loss: 1.4681 - val_accuracy: 0.2045\n",
            "Epoch 75/300\n",
            "2/2 [==============================] - 0s 26ms/step - loss: 1.3988 - accuracy: 0.3182 - val_loss: 1.4663 - val_accuracy: 0.2273\n",
            "Epoch 76/300\n",
            "2/2 [==============================] - 0s 26ms/step - loss: 1.3956 - accuracy: 0.3409 - val_loss: 1.4656 - val_accuracy: 0.2045\n",
            "Epoch 77/300\n",
            "2/2 [==============================] - 0s 27ms/step - loss: 1.3920 - accuracy: 0.3409 - val_loss: 1.4645 - val_accuracy: 0.2045\n",
            "Epoch 78/300\n",
            "2/2 [==============================] - 0s 34ms/step - loss: 1.3883 - accuracy: 0.3409 - val_loss: 1.4633 - val_accuracy: 0.2045\n",
            "Epoch 79/300\n",
            "2/2 [==============================] - 0s 47ms/step - loss: 1.3845 - accuracy: 0.2955 - val_loss: 1.4616 - val_accuracy: 0.2045\n",
            "Epoch 80/300\n",
            "2/2 [==============================] - 0s 26ms/step - loss: 1.3813 - accuracy: 0.3182 - val_loss: 1.4599 - val_accuracy: 0.2045\n",
            "Epoch 81/300\n",
            "2/2 [==============================] - 0s 29ms/step - loss: 1.3783 - accuracy: 0.3409 - val_loss: 1.4590 - val_accuracy: 0.2045\n",
            "Epoch 82/300\n",
            "2/2 [==============================] - 0s 28ms/step - loss: 1.3749 - accuracy: 0.3182 - val_loss: 1.4576 - val_accuracy: 0.2045\n",
            "Epoch 83/300\n",
            "2/2 [==============================] - 0s 29ms/step - loss: 1.3723 - accuracy: 0.3182 - val_loss: 1.4574 - val_accuracy: 0.2045\n",
            "Epoch 84/300\n",
            "2/2 [==============================] - 0s 27ms/step - loss: 1.3681 - accuracy: 0.3182 - val_loss: 1.4564 - val_accuracy: 0.2045\n",
            "Epoch 85/300\n",
            "2/2 [==============================] - 0s 26ms/step - loss: 1.3650 - accuracy: 0.2955 - val_loss: 1.4550 - val_accuracy: 0.2045\n",
            "Epoch 86/300\n",
            "2/2 [==============================] - 0s 25ms/step - loss: 1.3613 - accuracy: 0.2955 - val_loss: 1.4541 - val_accuracy: 0.2045\n",
            "Epoch 87/300\n",
            "2/2 [==============================] - 0s 33ms/step - loss: 1.3576 - accuracy: 0.2955 - val_loss: 1.4531 - val_accuracy: 0.2045\n",
            "Epoch 88/300\n",
            "2/2 [==============================] - 0s 26ms/step - loss: 1.3542 - accuracy: 0.2955 - val_loss: 1.4519 - val_accuracy: 0.2045\n",
            "Epoch 89/300\n",
            "2/2 [==============================] - 0s 26ms/step - loss: 1.3508 - accuracy: 0.3182 - val_loss: 1.4509 - val_accuracy: 0.2045\n",
            "Epoch 90/300\n",
            "2/2 [==============================] - 0s 29ms/step - loss: 1.3472 - accuracy: 0.3182 - val_loss: 1.4499 - val_accuracy: 0.2045\n",
            "Epoch 91/300\n",
            "2/2 [==============================] - 0s 28ms/step - loss: 1.3438 - accuracy: 0.3182 - val_loss: 1.4483 - val_accuracy: 0.2045\n",
            "Epoch 92/300\n",
            "2/2 [==============================] - 0s 45ms/step - loss: 1.3406 - accuracy: 0.3182 - val_loss: 1.4474 - val_accuracy: 0.2045\n",
            "Epoch 93/300\n",
            "2/2 [==============================] - 0s 31ms/step - loss: 1.3382 - accuracy: 0.3182 - val_loss: 1.4447 - val_accuracy: 0.2045\n",
            "Epoch 94/300\n",
            "2/2 [==============================] - 0s 26ms/step - loss: 1.3344 - accuracy: 0.3182 - val_loss: 1.4438 - val_accuracy: 0.2045\n",
            "Epoch 95/300\n",
            "2/2 [==============================] - 0s 47ms/step - loss: 1.3317 - accuracy: 0.3182 - val_loss: 1.4437 - val_accuracy: 0.2045\n",
            "Epoch 96/300\n",
            "2/2 [==============================] - 0s 30ms/step - loss: 1.3276 - accuracy: 0.3182 - val_loss: 1.4429 - val_accuracy: 0.2045\n",
            "Epoch 97/300\n",
            "2/2 [==============================] - 0s 30ms/step - loss: 1.3250 - accuracy: 0.3182 - val_loss: 1.4404 - val_accuracy: 0.2045\n",
            "Epoch 98/300\n",
            "2/2 [==============================] - 0s 26ms/step - loss: 1.3217 - accuracy: 0.3182 - val_loss: 1.4379 - val_accuracy: 0.2045\n",
            "Epoch 99/300\n",
            "2/2 [==============================] - 0s 26ms/step - loss: 1.3185 - accuracy: 0.3182 - val_loss: 1.4360 - val_accuracy: 0.2045\n",
            "Epoch 100/300\n",
            "2/2 [==============================] - 0s 30ms/step - loss: 1.3152 - accuracy: 0.3182 - val_loss: 1.4340 - val_accuracy: 0.2045\n",
            "Epoch 101/300\n",
            "2/2 [==============================] - 0s 33ms/step - loss: 1.3121 - accuracy: 0.3182 - val_loss: 1.4332 - val_accuracy: 0.2045\n",
            "Epoch 102/300\n",
            "2/2 [==============================] - 0s 27ms/step - loss: 1.3090 - accuracy: 0.3182 - val_loss: 1.4332 - val_accuracy: 0.2045\n",
            "Epoch 103/300\n",
            "2/2 [==============================] - 0s 49ms/step - loss: 1.3052 - accuracy: 0.3182 - val_loss: 1.4317 - val_accuracy: 0.2045\n",
            "Epoch 104/300\n",
            "2/2 [==============================] - 0s 27ms/step - loss: 1.3021 - accuracy: 0.3182 - val_loss: 1.4308 - val_accuracy: 0.2045\n",
            "Epoch 105/300\n",
            "2/2 [==============================] - 0s 29ms/step - loss: 1.2990 - accuracy: 0.3182 - val_loss: 1.4304 - val_accuracy: 0.2045\n",
            "Epoch 106/300\n",
            "2/2 [==============================] - 0s 28ms/step - loss: 1.2953 - accuracy: 0.3409 - val_loss: 1.4288 - val_accuracy: 0.2045\n",
            "Epoch 107/300\n",
            "2/2 [==============================] - 0s 30ms/step - loss: 1.2927 - accuracy: 0.3409 - val_loss: 1.4266 - val_accuracy: 0.2045\n",
            "Epoch 108/300\n",
            "2/2 [==============================] - 0s 27ms/step - loss: 1.2891 - accuracy: 0.3409 - val_loss: 1.4262 - val_accuracy: 0.2045\n",
            "Epoch 109/300\n",
            "2/2 [==============================] - 0s 25ms/step - loss: 1.2855 - accuracy: 0.3409 - val_loss: 1.4244 - val_accuracy: 0.2045\n",
            "Epoch 110/300\n",
            "2/2 [==============================] - 0s 49ms/step - loss: 1.2825 - accuracy: 0.3409 - val_loss: 1.4225 - val_accuracy: 0.2045\n",
            "Epoch 111/300\n",
            "2/2 [==============================] - 0s 45ms/step - loss: 1.2794 - accuracy: 0.3409 - val_loss: 1.4213 - val_accuracy: 0.2045\n",
            "Epoch 112/300\n",
            "2/2 [==============================] - 0s 30ms/step - loss: 1.2760 - accuracy: 0.3636 - val_loss: 1.4196 - val_accuracy: 0.2045\n",
            "Epoch 113/300\n",
            "2/2 [==============================] - 0s 47ms/step - loss: 1.2735 - accuracy: 0.4091 - val_loss: 1.4166 - val_accuracy: 0.2045\n",
            "Epoch 114/300\n",
            "2/2 [==============================] - 0s 28ms/step - loss: 1.2704 - accuracy: 0.4318 - val_loss: 1.4171 - val_accuracy: 0.2045\n",
            "Epoch 115/300\n",
            "2/2 [==============================] - 0s 28ms/step - loss: 1.2667 - accuracy: 0.4318 - val_loss: 1.4163 - val_accuracy: 0.2273\n",
            "Epoch 116/300\n",
            "2/2 [==============================] - 0s 27ms/step - loss: 1.2636 - accuracy: 0.4545 - val_loss: 1.4143 - val_accuracy: 0.2273\n",
            "Epoch 117/300\n",
            "2/2 [==============================] - 0s 28ms/step - loss: 1.2605 - accuracy: 0.4545 - val_loss: 1.4138 - val_accuracy: 0.2273\n",
            "Epoch 118/300\n",
            "2/2 [==============================] - 0s 30ms/step - loss: 1.2575 - accuracy: 0.4545 - val_loss: 1.4124 - val_accuracy: 0.2273\n",
            "Epoch 119/300\n",
            "2/2 [==============================] - 0s 27ms/step - loss: 1.2543 - accuracy: 0.4545 - val_loss: 1.4119 - val_accuracy: 0.2273\n",
            "Epoch 120/300\n",
            "2/2 [==============================] - 0s 28ms/step - loss: 1.2511 - accuracy: 0.4773 - val_loss: 1.4090 - val_accuracy: 0.2273\n",
            "Epoch 121/300\n",
            "2/2 [==============================] - 0s 31ms/step - loss: 1.2482 - accuracy: 0.4773 - val_loss: 1.4079 - val_accuracy: 0.2273\n",
            "Epoch 122/300\n",
            "2/2 [==============================] - 0s 26ms/step - loss: 1.2451 - accuracy: 0.4773 - val_loss: 1.4047 - val_accuracy: 0.2273\n",
            "Epoch 123/300\n",
            "2/2 [==============================] - 0s 27ms/step - loss: 1.2419 - accuracy: 0.4773 - val_loss: 1.4035 - val_accuracy: 0.2273\n",
            "Epoch 124/300\n",
            "2/2 [==============================] - 0s 29ms/step - loss: 1.2395 - accuracy: 0.5000 - val_loss: 1.4032 - val_accuracy: 0.2273\n",
            "Epoch 125/300\n",
            "2/2 [==============================] - 0s 27ms/step - loss: 1.2362 - accuracy: 0.5000 - val_loss: 1.4009 - val_accuracy: 0.2273\n",
            "Epoch 126/300\n",
            "2/2 [==============================] - 0s 33ms/step - loss: 1.2334 - accuracy: 0.5000 - val_loss: 1.3971 - val_accuracy: 0.2273\n",
            "Epoch 127/300\n",
            "2/2 [==============================] - 0s 29ms/step - loss: 1.2298 - accuracy: 0.5000 - val_loss: 1.3961 - val_accuracy: 0.2273\n",
            "Epoch 128/300\n",
            "2/2 [==============================] - 0s 35ms/step - loss: 1.2271 - accuracy: 0.5227 - val_loss: 1.3934 - val_accuracy: 0.2273\n",
            "Epoch 129/300\n",
            "2/2 [==============================] - 0s 29ms/step - loss: 1.2240 - accuracy: 0.5227 - val_loss: 1.3925 - val_accuracy: 0.2500\n",
            "Epoch 130/300\n",
            "2/2 [==============================] - 0s 29ms/step - loss: 1.2208 - accuracy: 0.5227 - val_loss: 1.3913 - val_accuracy: 0.2500\n",
            "Epoch 131/300\n",
            "2/2 [==============================] - 0s 26ms/step - loss: 1.2177 - accuracy: 0.5227 - val_loss: 1.3894 - val_accuracy: 0.2500\n",
            "Epoch 132/300\n",
            "2/2 [==============================] - 0s 27ms/step - loss: 1.2148 - accuracy: 0.5455 - val_loss: 1.3881 - val_accuracy: 0.2500\n",
            "Epoch 133/300\n",
            "2/2 [==============================] - 0s 27ms/step - loss: 1.2118 - accuracy: 0.5455 - val_loss: 1.3866 - val_accuracy: 0.2727\n",
            "Epoch 134/300\n",
            "2/2 [==============================] - 0s 26ms/step - loss: 1.2090 - accuracy: 0.5455 - val_loss: 1.3857 - val_accuracy: 0.2500\n",
            "Epoch 135/300\n",
            "2/2 [==============================] - 0s 31ms/step - loss: 1.2063 - accuracy: 0.5455 - val_loss: 1.3849 - val_accuracy: 0.2500\n",
            "Epoch 136/300\n",
            "2/2 [==============================] - 0s 27ms/step - loss: 1.2030 - accuracy: 0.5227 - val_loss: 1.3823 - val_accuracy: 0.2727\n",
            "Epoch 137/300\n",
            "2/2 [==============================] - 0s 30ms/step - loss: 1.2004 - accuracy: 0.5455 - val_loss: 1.3785 - val_accuracy: 0.3182\n",
            "Epoch 138/300\n",
            "2/2 [==============================] - 0s 26ms/step - loss: 1.1969 - accuracy: 0.5682 - val_loss: 1.3767 - val_accuracy: 0.3182\n",
            "Epoch 139/300\n",
            "2/2 [==============================] - 0s 31ms/step - loss: 1.1938 - accuracy: 0.5682 - val_loss: 1.3754 - val_accuracy: 0.3182\n",
            "Epoch 140/300\n",
            "2/2 [==============================] - 0s 26ms/step - loss: 1.1911 - accuracy: 0.5682 - val_loss: 1.3732 - val_accuracy: 0.3182\n",
            "Epoch 141/300\n",
            "2/2 [==============================] - 0s 29ms/step - loss: 1.1879 - accuracy: 0.5682 - val_loss: 1.3719 - val_accuracy: 0.3182\n",
            "Epoch 142/300\n",
            "2/2 [==============================] - 0s 35ms/step - loss: 1.1850 - accuracy: 0.5682 - val_loss: 1.3705 - val_accuracy: 0.3182\n",
            "Epoch 143/300\n",
            "2/2 [==============================] - 0s 27ms/step - loss: 1.1824 - accuracy: 0.5909 - val_loss: 1.3705 - val_accuracy: 0.3182\n",
            "Epoch 144/300\n",
            "2/2 [==============================] - 0s 31ms/step - loss: 1.1796 - accuracy: 0.5909 - val_loss: 1.3696 - val_accuracy: 0.3182\n",
            "Epoch 145/300\n",
            "2/2 [==============================] - 0s 26ms/step - loss: 1.1760 - accuracy: 0.5909 - val_loss: 1.3667 - val_accuracy: 0.3182\n",
            "Epoch 146/300\n",
            "2/2 [==============================] - 0s 31ms/step - loss: 1.1729 - accuracy: 0.5909 - val_loss: 1.3660 - val_accuracy: 0.3182\n",
            "Epoch 147/300\n",
            "2/2 [==============================] - 0s 29ms/step - loss: 1.1698 - accuracy: 0.5909 - val_loss: 1.3638 - val_accuracy: 0.3409\n",
            "Epoch 148/300\n",
            "2/2 [==============================] - 0s 34ms/step - loss: 1.1670 - accuracy: 0.5909 - val_loss: 1.3605 - val_accuracy: 0.3636\n",
            "Epoch 149/300\n",
            "2/2 [==============================] - 0s 25ms/step - loss: 1.1640 - accuracy: 0.5909 - val_loss: 1.3601 - val_accuracy: 0.3636\n",
            "Epoch 150/300\n",
            "2/2 [==============================] - 0s 30ms/step - loss: 1.1622 - accuracy: 0.5909 - val_loss: 1.3617 - val_accuracy: 0.3636\n",
            "Epoch 151/300\n",
            "2/2 [==============================] - 0s 27ms/step - loss: 1.1582 - accuracy: 0.5909 - val_loss: 1.3598 - val_accuracy: 0.3636\n",
            "Epoch 152/300\n",
            "2/2 [==============================] - 0s 31ms/step - loss: 1.1560 - accuracy: 0.5909 - val_loss: 1.3546 - val_accuracy: 0.3636\n",
            "Epoch 153/300\n",
            "2/2 [==============================] - 0s 39ms/step - loss: 1.1524 - accuracy: 0.6136 - val_loss: 1.3512 - val_accuracy: 0.3636\n",
            "Epoch 154/300\n",
            "2/2 [==============================] - 0s 28ms/step - loss: 1.1492 - accuracy: 0.6364 - val_loss: 1.3486 - val_accuracy: 0.3636\n",
            "Epoch 155/300\n",
            "2/2 [==============================] - 0s 28ms/step - loss: 1.1467 - accuracy: 0.6364 - val_loss: 1.3486 - val_accuracy: 0.3636\n",
            "Epoch 156/300\n",
            "2/2 [==============================] - 0s 34ms/step - loss: 1.1430 - accuracy: 0.6364 - val_loss: 1.3452 - val_accuracy: 0.3636\n",
            "Epoch 157/300\n",
            "2/2 [==============================] - 0s 27ms/step - loss: 1.1400 - accuracy: 0.6591 - val_loss: 1.3424 - val_accuracy: 0.3636\n",
            "Epoch 158/300\n",
            "2/2 [==============================] - 0s 45ms/step - loss: 1.1371 - accuracy: 0.6818 - val_loss: 1.3427 - val_accuracy: 0.3636\n",
            "Epoch 159/300\n",
            "2/2 [==============================] - 0s 34ms/step - loss: 1.1345 - accuracy: 0.6591 - val_loss: 1.3429 - val_accuracy: 0.3636\n",
            "Epoch 160/300\n",
            "2/2 [==============================] - 0s 29ms/step - loss: 1.1314 - accuracy: 0.6591 - val_loss: 1.3390 - val_accuracy: 0.3636\n",
            "Epoch 161/300\n",
            "2/2 [==============================] - 0s 30ms/step - loss: 1.1292 - accuracy: 0.6591 - val_loss: 1.3396 - val_accuracy: 0.3636\n",
            "Epoch 162/300\n",
            "2/2 [==============================] - 0s 27ms/step - loss: 1.1251 - accuracy: 0.6591 - val_loss: 1.3370 - val_accuracy: 0.3636\n",
            "Epoch 163/300\n",
            "2/2 [==============================] - 0s 28ms/step - loss: 1.1228 - accuracy: 0.6591 - val_loss: 1.3341 - val_accuracy: 0.3636\n",
            "Epoch 164/300\n",
            "2/2 [==============================] - 0s 37ms/step - loss: 1.1198 - accuracy: 0.6818 - val_loss: 1.3305 - val_accuracy: 0.3864\n",
            "Epoch 165/300\n",
            "2/2 [==============================] - 0s 30ms/step - loss: 1.1168 - accuracy: 0.6818 - val_loss: 1.3276 - val_accuracy: 0.4091\n",
            "Epoch 166/300\n",
            "2/2 [==============================] - 0s 28ms/step - loss: 1.1137 - accuracy: 0.6591 - val_loss: 1.3244 - val_accuracy: 0.4091\n",
            "Epoch 167/300\n",
            "2/2 [==============================] - 0s 37ms/step - loss: 1.1106 - accuracy: 0.6591 - val_loss: 1.3242 - val_accuracy: 0.4091\n",
            "Epoch 168/300\n",
            "2/2 [==============================] - 0s 29ms/step - loss: 1.1075 - accuracy: 0.6591 - val_loss: 1.3226 - val_accuracy: 0.4318\n",
            "Epoch 169/300\n",
            "2/2 [==============================] - 0s 28ms/step - loss: 1.1054 - accuracy: 0.6818 - val_loss: 1.3235 - val_accuracy: 0.4091\n",
            "Epoch 170/300\n",
            "2/2 [==============================] - 0s 29ms/step - loss: 1.1023 - accuracy: 0.6818 - val_loss: 1.3183 - val_accuracy: 0.4318\n",
            "Epoch 171/300\n",
            "2/2 [==============================] - 0s 29ms/step - loss: 1.0990 - accuracy: 0.6591 - val_loss: 1.3147 - val_accuracy: 0.4318\n",
            "Epoch 172/300\n",
            "2/2 [==============================] - 0s 28ms/step - loss: 1.0957 - accuracy: 0.6818 - val_loss: 1.3136 - val_accuracy: 0.4318\n",
            "Epoch 173/300\n",
            "2/2 [==============================] - 0s 28ms/step - loss: 1.0929 - accuracy: 0.6818 - val_loss: 1.3108 - val_accuracy: 0.4318\n",
            "Epoch 174/300\n",
            "2/2 [==============================] - 0s 30ms/step - loss: 1.0907 - accuracy: 0.6818 - val_loss: 1.3114 - val_accuracy: 0.4318\n",
            "Epoch 175/300\n",
            "2/2 [==============================] - 0s 33ms/step - loss: 1.0874 - accuracy: 0.6818 - val_loss: 1.3082 - val_accuracy: 0.4318\n",
            "Epoch 176/300\n",
            "2/2 [==============================] - 0s 28ms/step - loss: 1.0839 - accuracy: 0.6591 - val_loss: 1.3055 - val_accuracy: 0.4545\n",
            "Epoch 177/300\n",
            "2/2 [==============================] - 0s 28ms/step - loss: 1.0810 - accuracy: 0.6818 - val_loss: 1.3026 - val_accuracy: 0.4545\n",
            "Epoch 178/300\n",
            "2/2 [==============================] - 0s 34ms/step - loss: 1.0782 - accuracy: 0.6591 - val_loss: 1.3030 - val_accuracy: 0.4545\n",
            "Epoch 179/300\n",
            "2/2 [==============================] - 0s 30ms/step - loss: 1.0762 - accuracy: 0.6591 - val_loss: 1.2985 - val_accuracy: 0.4773\n",
            "Epoch 180/300\n",
            "2/2 [==============================] - 0s 30ms/step - loss: 1.0726 - accuracy: 0.6591 - val_loss: 1.2973 - val_accuracy: 0.4773\n",
            "Epoch 181/300\n",
            "2/2 [==============================] - 0s 30ms/step - loss: 1.0697 - accuracy: 0.6818 - val_loss: 1.2971 - val_accuracy: 0.4773\n",
            "Epoch 182/300\n",
            "2/2 [==============================] - 0s 26ms/step - loss: 1.0668 - accuracy: 0.6591 - val_loss: 1.2956 - val_accuracy: 0.4773\n",
            "Epoch 183/300\n",
            "2/2 [==============================] - 0s 31ms/step - loss: 1.0647 - accuracy: 0.6591 - val_loss: 1.2923 - val_accuracy: 0.4773\n",
            "Epoch 184/300\n",
            "2/2 [==============================] - 0s 30ms/step - loss: 1.0617 - accuracy: 0.7045 - val_loss: 1.2886 - val_accuracy: 0.4773\n",
            "Epoch 185/300\n",
            "2/2 [==============================] - 0s 27ms/step - loss: 1.0585 - accuracy: 0.6818 - val_loss: 1.2855 - val_accuracy: 0.5000\n",
            "Epoch 186/300\n",
            "2/2 [==============================] - 0s 27ms/step - loss: 1.0562 - accuracy: 0.7045 - val_loss: 1.2816 - val_accuracy: 0.5227\n",
            "Epoch 187/300\n",
            "2/2 [==============================] - 0s 32ms/step - loss: 1.0529 - accuracy: 0.7045 - val_loss: 1.2791 - val_accuracy: 0.5455\n",
            "Epoch 188/300\n",
            "2/2 [==============================] - 0s 32ms/step - loss: 1.0497 - accuracy: 0.7045 - val_loss: 1.2784 - val_accuracy: 0.5455\n",
            "Epoch 189/300\n",
            "2/2 [==============================] - 0s 29ms/step - loss: 1.0472 - accuracy: 0.7045 - val_loss: 1.2798 - val_accuracy: 0.5227\n",
            "Epoch 190/300\n",
            "2/2 [==============================] - 0s 49ms/step - loss: 1.0434 - accuracy: 0.7045 - val_loss: 1.2773 - val_accuracy: 0.5455\n",
            "Epoch 191/300\n",
            "2/2 [==============================] - 0s 32ms/step - loss: 1.0416 - accuracy: 0.7045 - val_loss: 1.2729 - val_accuracy: 0.5455\n",
            "Epoch 192/300\n",
            "2/2 [==============================] - 0s 29ms/step - loss: 1.0374 - accuracy: 0.7045 - val_loss: 1.2709 - val_accuracy: 0.5455\n",
            "Epoch 193/300\n",
            "2/2 [==============================] - 0s 32ms/step - loss: 1.0345 - accuracy: 0.7045 - val_loss: 1.2718 - val_accuracy: 0.5455\n",
            "Epoch 194/300\n",
            "2/2 [==============================] - 0s 32ms/step - loss: 1.0313 - accuracy: 0.7045 - val_loss: 1.2689 - val_accuracy: 0.5455\n",
            "Epoch 195/300\n",
            "2/2 [==============================] - 0s 28ms/step - loss: 1.0279 - accuracy: 0.7045 - val_loss: 1.2674 - val_accuracy: 0.5455\n",
            "Epoch 196/300\n",
            "2/2 [==============================] - 0s 29ms/step - loss: 1.0249 - accuracy: 0.7045 - val_loss: 1.2639 - val_accuracy: 0.5455\n",
            "Epoch 197/300\n",
            "2/2 [==============================] - 0s 30ms/step - loss: 1.0222 - accuracy: 0.7045 - val_loss: 1.2645 - val_accuracy: 0.5227\n",
            "Epoch 198/300\n",
            "2/2 [==============================] - 0s 31ms/step - loss: 1.0184 - accuracy: 0.7045 - val_loss: 1.2624 - val_accuracy: 0.5227\n",
            "Epoch 199/300\n",
            "2/2 [==============================] - 0s 27ms/step - loss: 1.0157 - accuracy: 0.7045 - val_loss: 1.2583 - val_accuracy: 0.5455\n",
            "Epoch 200/300\n",
            "2/2 [==============================] - 0s 33ms/step - loss: 1.0126 - accuracy: 0.7045 - val_loss: 1.2591 - val_accuracy: 0.5455\n",
            "Epoch 201/300\n",
            "2/2 [==============================] - 0s 29ms/step - loss: 1.0116 - accuracy: 0.7045 - val_loss: 1.2519 - val_accuracy: 0.5455\n",
            "Epoch 202/300\n",
            "2/2 [==============================] - 0s 34ms/step - loss: 1.0065 - accuracy: 0.7045 - val_loss: 1.2493 - val_accuracy: 0.5455\n",
            "Epoch 203/300\n",
            "2/2 [==============================] - 0s 28ms/step - loss: 1.0032 - accuracy: 0.7045 - val_loss: 1.2492 - val_accuracy: 0.5455\n",
            "Epoch 204/300\n",
            "2/2 [==============================] - 0s 35ms/step - loss: 1.0006 - accuracy: 0.7045 - val_loss: 1.2484 - val_accuracy: 0.5455\n",
            "Epoch 205/300\n",
            "2/2 [==============================] - 0s 29ms/step - loss: 0.9973 - accuracy: 0.7045 - val_loss: 1.2495 - val_accuracy: 0.5455\n",
            "Epoch 206/300\n",
            "2/2 [==============================] - 0s 29ms/step - loss: 0.9945 - accuracy: 0.7045 - val_loss: 1.2514 - val_accuracy: 0.5227\n",
            "Epoch 207/300\n",
            "2/2 [==============================] - 0s 36ms/step - loss: 0.9927 - accuracy: 0.7045 - val_loss: 1.2448 - val_accuracy: 0.5455\n",
            "Epoch 208/300\n",
            "2/2 [==============================] - 0s 27ms/step - loss: 0.9887 - accuracy: 0.7045 - val_loss: 1.2464 - val_accuracy: 0.5455\n",
            "Epoch 209/300\n",
            "2/2 [==============================] - 0s 32ms/step - loss: 0.9850 - accuracy: 0.7045 - val_loss: 1.2434 - val_accuracy: 0.5455\n",
            "Epoch 210/300\n",
            "2/2 [==============================] - 0s 26ms/step - loss: 0.9819 - accuracy: 0.7045 - val_loss: 1.2416 - val_accuracy: 0.5455\n",
            "Epoch 211/300\n",
            "2/2 [==============================] - 0s 40ms/step - loss: 0.9801 - accuracy: 0.7045 - val_loss: 1.2444 - val_accuracy: 0.5227\n",
            "Epoch 212/300\n",
            "2/2 [==============================] - 0s 29ms/step - loss: 0.9757 - accuracy: 0.7045 - val_loss: 1.2436 - val_accuracy: 0.5227\n",
            "Epoch 213/300\n",
            "2/2 [==============================] - 0s 28ms/step - loss: 0.9734 - accuracy: 0.7045 - val_loss: 1.2448 - val_accuracy: 0.5227\n",
            "Epoch 214/300\n",
            "2/2 [==============================] - 0s 48ms/step - loss: 0.9708 - accuracy: 0.7045 - val_loss: 1.2455 - val_accuracy: 0.5227\n",
            "Epoch 215/300\n",
            "2/2 [==============================] - 0s 31ms/step - loss: 0.9675 - accuracy: 0.7045 - val_loss: 1.2441 - val_accuracy: 0.5227\n",
            "Epoch 216/300\n",
            "2/2 [==============================] - 0s 30ms/step - loss: 0.9648 - accuracy: 0.7045 - val_loss: 1.2429 - val_accuracy: 0.5227\n",
            "Epoch 217/300\n",
            "2/2 [==============================] - 0s 30ms/step - loss: 0.9628 - accuracy: 0.7045 - val_loss: 1.2437 - val_accuracy: 0.5227\n",
            "Epoch 218/300\n",
            "2/2 [==============================] - 0s 29ms/step - loss: 0.9589 - accuracy: 0.7045 - val_loss: 1.2383 - val_accuracy: 0.5227\n",
            "Epoch 219/300\n",
            "2/2 [==============================] - 0s 28ms/step - loss: 0.9566 - accuracy: 0.7045 - val_loss: 1.2389 - val_accuracy: 0.5227\n",
            "Epoch 220/300\n",
            "2/2 [==============================] - 0s 45ms/step - loss: 0.9532 - accuracy: 0.7045 - val_loss: 1.2364 - val_accuracy: 0.5227\n",
            "Epoch 221/300\n",
            "2/2 [==============================] - 0s 37ms/step - loss: 0.9499 - accuracy: 0.7045 - val_loss: 1.2344 - val_accuracy: 0.5227\n",
            "Epoch 222/300\n",
            "2/2 [==============================] - 0s 29ms/step - loss: 0.9466 - accuracy: 0.7045 - val_loss: 1.2301 - val_accuracy: 0.5455\n",
            "Epoch 223/300\n",
            "2/2 [==============================] - 0s 30ms/step - loss: 0.9435 - accuracy: 0.7045 - val_loss: 1.2287 - val_accuracy: 0.5455\n",
            "Epoch 224/300\n",
            "2/2 [==============================] - 0s 28ms/step - loss: 0.9401 - accuracy: 0.7045 - val_loss: 1.2227 - val_accuracy: 0.5455\n",
            "Epoch 225/300\n",
            "2/2 [==============================] - 0s 35ms/step - loss: 0.9362 - accuracy: 0.7045 - val_loss: 1.2183 - val_accuracy: 0.5682\n",
            "Epoch 226/300\n",
            "2/2 [==============================] - 0s 51ms/step - loss: 0.9329 - accuracy: 0.7045 - val_loss: 1.2154 - val_accuracy: 0.5682\n",
            "Epoch 227/300\n",
            "2/2 [==============================] - 0s 25ms/step - loss: 0.9295 - accuracy: 0.7045 - val_loss: 1.2135 - val_accuracy: 0.5682\n",
            "Epoch 228/300\n",
            "2/2 [==============================] - 0s 37ms/step - loss: 0.9290 - accuracy: 0.7045 - val_loss: 1.2161 - val_accuracy: 0.5455\n",
            "Epoch 229/300\n",
            "2/2 [==============================] - 0s 28ms/step - loss: 0.9238 - accuracy: 0.7045 - val_loss: 1.2152 - val_accuracy: 0.5455\n",
            "Epoch 230/300\n",
            "2/2 [==============================] - 0s 27ms/step - loss: 0.9217 - accuracy: 0.7045 - val_loss: 1.2145 - val_accuracy: 0.5455\n",
            "Epoch 231/300\n",
            "2/2 [==============================] - 0s 31ms/step - loss: 0.9202 - accuracy: 0.7045 - val_loss: 1.2165 - val_accuracy: 0.5455\n",
            "Epoch 232/300\n",
            "2/2 [==============================] - 0s 27ms/step - loss: 0.9148 - accuracy: 0.7045 - val_loss: 1.2143 - val_accuracy: 0.5455\n",
            "Epoch 233/300\n",
            "2/2 [==============================] - 0s 31ms/step - loss: 0.9137 - accuracy: 0.7045 - val_loss: 1.2158 - val_accuracy: 0.5455\n",
            "Epoch 234/300\n",
            "2/2 [==============================] - 0s 31ms/step - loss: 0.9140 - accuracy: 0.7045 - val_loss: 1.2204 - val_accuracy: 0.5455\n",
            "Epoch 235/300\n",
            "2/2 [==============================] - 0s 39ms/step - loss: 0.9092 - accuracy: 0.7045 - val_loss: 1.2176 - val_accuracy: 0.5455\n",
            "Epoch 236/300\n",
            "2/2 [==============================] - 0s 30ms/step - loss: 0.9042 - accuracy: 0.7045 - val_loss: 1.2117 - val_accuracy: 0.5455\n",
            "Epoch 237/300\n",
            "2/2 [==============================] - 0s 32ms/step - loss: 0.9026 - accuracy: 0.7045 - val_loss: 1.2142 - val_accuracy: 0.5455\n",
            "Epoch 238/300\n",
            "2/2 [==============================] - 0s 32ms/step - loss: 0.8982 - accuracy: 0.7045 - val_loss: 1.2095 - val_accuracy: 0.5455\n",
            "Epoch 239/300\n",
            "2/2 [==============================] - 0s 35ms/step - loss: 0.8949 - accuracy: 0.7045 - val_loss: 1.1979 - val_accuracy: 0.5455\n",
            "Epoch 240/300\n",
            "2/2 [==============================] - 0s 29ms/step - loss: 0.8895 - accuracy: 0.7045 - val_loss: 1.1935 - val_accuracy: 0.5455\n",
            "Epoch 241/300\n",
            "2/2 [==============================] - 0s 37ms/step - loss: 0.8859 - accuracy: 0.7045 - val_loss: 1.1888 - val_accuracy: 0.5682\n",
            "Epoch 242/300\n",
            "2/2 [==============================] - 0s 45ms/step - loss: 0.8829 - accuracy: 0.7045 - val_loss: 1.1838 - val_accuracy: 0.5682\n",
            "Epoch 243/300\n",
            "2/2 [==============================] - 0s 31ms/step - loss: 0.8798 - accuracy: 0.7273 - val_loss: 1.1844 - val_accuracy: 0.5682\n",
            "Epoch 244/300\n",
            "2/2 [==============================] - 0s 31ms/step - loss: 0.8765 - accuracy: 0.7273 - val_loss: 1.1832 - val_accuracy: 0.5682\n",
            "Epoch 245/300\n",
            "2/2 [==============================] - 0s 29ms/step - loss: 0.8745 - accuracy: 0.7273 - val_loss: 1.1831 - val_accuracy: 0.5682\n",
            "Epoch 246/300\n",
            "2/2 [==============================] - 0s 29ms/step - loss: 0.8717 - accuracy: 0.7045 - val_loss: 1.1755 - val_accuracy: 0.5682\n",
            "Epoch 247/300\n",
            "2/2 [==============================] - 0s 27ms/step - loss: 0.8682 - accuracy: 0.7273 - val_loss: 1.1691 - val_accuracy: 0.5682\n",
            "Epoch 248/300\n",
            "2/2 [==============================] - 0s 42ms/step - loss: 0.8648 - accuracy: 0.7273 - val_loss: 1.1718 - val_accuracy: 0.5682\n",
            "Epoch 249/300\n",
            "2/2 [==============================] - 0s 29ms/step - loss: 0.8616 - accuracy: 0.7273 - val_loss: 1.1747 - val_accuracy: 0.5682\n",
            "Epoch 250/300\n",
            "2/2 [==============================] - 0s 48ms/step - loss: 0.8587 - accuracy: 0.7273 - val_loss: 1.1744 - val_accuracy: 0.5682\n",
            "Epoch 251/300\n",
            "2/2 [==============================] - 0s 28ms/step - loss: 0.8564 - accuracy: 0.7273 - val_loss: 1.1668 - val_accuracy: 0.5682\n",
            "Epoch 252/300\n",
            "2/2 [==============================] - 0s 31ms/step - loss: 0.8529 - accuracy: 0.7273 - val_loss: 1.1660 - val_accuracy: 0.5682\n",
            "Epoch 253/300\n",
            "2/2 [==============================] - 0s 34ms/step - loss: 0.8511 - accuracy: 0.7273 - val_loss: 1.1709 - val_accuracy: 0.5682\n",
            "Epoch 254/300\n",
            "2/2 [==============================] - 0s 32ms/step - loss: 0.8470 - accuracy: 0.7273 - val_loss: 1.1710 - val_accuracy: 0.5682\n",
            "Epoch 255/300\n",
            "2/2 [==============================] - 0s 32ms/step - loss: 0.8444 - accuracy: 0.7045 - val_loss: 1.1720 - val_accuracy: 0.5682\n",
            "Epoch 256/300\n",
            "2/2 [==============================] - 0s 35ms/step - loss: 0.8442 - accuracy: 0.7045 - val_loss: 1.1762 - val_accuracy: 0.5455\n",
            "Epoch 257/300\n",
            "2/2 [==============================] - 0s 29ms/step - loss: 0.8395 - accuracy: 0.7045 - val_loss: 1.1737 - val_accuracy: 0.5682\n",
            "Epoch 258/300\n",
            "2/2 [==============================] - 0s 28ms/step - loss: 0.8366 - accuracy: 0.7045 - val_loss: 1.1677 - val_accuracy: 0.5682\n",
            "Epoch 259/300\n",
            "2/2 [==============================] - 0s 37ms/step - loss: 0.8328 - accuracy: 0.7045 - val_loss: 1.1649 - val_accuracy: 0.5682\n",
            "Epoch 260/300\n",
            "2/2 [==============================] - 0s 40ms/step - loss: 0.8304 - accuracy: 0.7045 - val_loss: 1.1648 - val_accuracy: 0.5682\n",
            "Epoch 261/300\n",
            "2/2 [==============================] - 0s 33ms/step - loss: 0.8278 - accuracy: 0.7045 - val_loss: 1.1623 - val_accuracy: 0.5682\n",
            "Epoch 262/300\n",
            "2/2 [==============================] - 0s 55ms/step - loss: 0.8250 - accuracy: 0.7045 - val_loss: 1.1637 - val_accuracy: 0.5682\n",
            "Epoch 263/300\n",
            "2/2 [==============================] - 0s 64ms/step - loss: 0.8228 - accuracy: 0.7045 - val_loss: 1.1633 - val_accuracy: 0.5682\n",
            "Epoch 264/300\n",
            "2/2 [==============================] - 0s 47ms/step - loss: 0.8204 - accuracy: 0.7045 - val_loss: 1.1545 - val_accuracy: 0.5682\n",
            "Epoch 265/300\n",
            "2/2 [==============================] - 0s 47ms/step - loss: 0.8169 - accuracy: 0.7273 - val_loss: 1.1567 - val_accuracy: 0.5682\n",
            "Epoch 266/300\n",
            "2/2 [==============================] - 0s 52ms/step - loss: 0.8153 - accuracy: 0.7273 - val_loss: 1.1604 - val_accuracy: 0.5682\n",
            "Epoch 267/300\n",
            "2/2 [==============================] - 0s 42ms/step - loss: 0.8125 - accuracy: 0.7273 - val_loss: 1.1507 - val_accuracy: 0.5682\n",
            "Epoch 268/300\n",
            "2/2 [==============================] - 0s 70ms/step - loss: 0.8080 - accuracy: 0.7273 - val_loss: 1.1535 - val_accuracy: 0.5682\n",
            "Epoch 269/300\n",
            "2/2 [==============================] - 0s 48ms/step - loss: 0.8052 - accuracy: 0.7273 - val_loss: 1.1509 - val_accuracy: 0.5909\n",
            "Epoch 270/300\n",
            "2/2 [==============================] - 0s 45ms/step - loss: 0.8031 - accuracy: 0.7273 - val_loss: 1.1519 - val_accuracy: 0.5682\n",
            "Epoch 271/300\n",
            "2/2 [==============================] - 0s 43ms/step - loss: 0.8023 - accuracy: 0.7273 - val_loss: 1.1536 - val_accuracy: 0.5682\n",
            "Epoch 272/300\n",
            "2/2 [==============================] - 0s 42ms/step - loss: 0.7990 - accuracy: 0.7273 - val_loss: 1.1503 - val_accuracy: 0.5682\n",
            "Epoch 273/300\n",
            "2/2 [==============================] - 0s 44ms/step - loss: 0.7976 - accuracy: 0.7273 - val_loss: 1.1448 - val_accuracy: 0.5909\n",
            "Epoch 274/300\n",
            "2/2 [==============================] - 0s 59ms/step - loss: 0.7947 - accuracy: 0.7273 - val_loss: 1.1475 - val_accuracy: 0.5682\n",
            "Epoch 275/300\n",
            "2/2 [==============================] - 0s 56ms/step - loss: 0.7918 - accuracy: 0.7273 - val_loss: 1.1441 - val_accuracy: 0.5682\n",
            "Epoch 276/300\n",
            "2/2 [==============================] - 0s 57ms/step - loss: 0.7901 - accuracy: 0.7273 - val_loss: 1.1397 - val_accuracy: 0.5682\n",
            "Epoch 277/300\n",
            "2/2 [==============================] - 0s 43ms/step - loss: 0.7869 - accuracy: 0.7273 - val_loss: 1.1403 - val_accuracy: 0.5682\n",
            "Epoch 278/300\n",
            "2/2 [==============================] - 0s 87ms/step - loss: 0.7846 - accuracy: 0.7273 - val_loss: 1.1371 - val_accuracy: 0.5909\n",
            "Epoch 279/300\n",
            "2/2 [==============================] - 0s 58ms/step - loss: 0.7832 - accuracy: 0.7273 - val_loss: 1.1422 - val_accuracy: 0.5682\n",
            "Epoch 280/300\n",
            "2/2 [==============================] - 0s 63ms/step - loss: 0.7811 - accuracy: 0.7273 - val_loss: 1.1407 - val_accuracy: 0.5682\n",
            "Epoch 281/300\n",
            "2/2 [==============================] - 0s 38ms/step - loss: 0.7781 - accuracy: 0.7273 - val_loss: 1.1413 - val_accuracy: 0.5682\n",
            "Epoch 282/300\n",
            "2/2 [==============================] - 0s 48ms/step - loss: 0.7761 - accuracy: 0.7045 - val_loss: 1.1410 - val_accuracy: 0.5682\n",
            "Epoch 283/300\n",
            "2/2 [==============================] - 0s 56ms/step - loss: 0.7736 - accuracy: 0.7045 - val_loss: 1.1369 - val_accuracy: 0.5682\n",
            "Epoch 284/300\n",
            "2/2 [==============================] - 0s 58ms/step - loss: 0.7715 - accuracy: 0.7273 - val_loss: 1.1356 - val_accuracy: 0.5682\n",
            "Epoch 285/300\n",
            "2/2 [==============================] - 0s 66ms/step - loss: 0.7702 - accuracy: 0.7045 - val_loss: 1.1387 - val_accuracy: 0.5682\n",
            "Epoch 286/300\n",
            "2/2 [==============================] - 0s 65ms/step - loss: 0.7667 - accuracy: 0.7045 - val_loss: 1.1370 - val_accuracy: 0.5682\n",
            "Epoch 287/300\n",
            "2/2 [==============================] - 0s 53ms/step - loss: 0.7663 - accuracy: 0.7045 - val_loss: 1.1421 - val_accuracy: 0.5682\n",
            "Epoch 288/300\n",
            "2/2 [==============================] - 0s 36ms/step - loss: 0.7634 - accuracy: 0.7045 - val_loss: 1.1445 - val_accuracy: 0.5682\n",
            "Epoch 289/300\n",
            "2/2 [==============================] - 0s 40ms/step - loss: 0.7614 - accuracy: 0.7045 - val_loss: 1.1453 - val_accuracy: 0.5682\n",
            "Epoch 290/300\n",
            "2/2 [==============================] - 0s 36ms/step - loss: 0.7606 - accuracy: 0.7045 - val_loss: 1.1334 - val_accuracy: 0.5909\n",
            "Epoch 291/300\n",
            "2/2 [==============================] - 0s 35ms/step - loss: 0.7559 - accuracy: 0.7273 - val_loss: 1.1305 - val_accuracy: 0.5909\n",
            "Epoch 292/300\n",
            "2/2 [==============================] - 0s 36ms/step - loss: 0.7535 - accuracy: 0.7273 - val_loss: 1.1336 - val_accuracy: 0.5909\n",
            "Epoch 293/300\n",
            "2/2 [==============================] - 0s 63ms/step - loss: 0.7513 - accuracy: 0.7273 - val_loss: 1.1344 - val_accuracy: 0.5909\n",
            "Epoch 294/300\n",
            "2/2 [==============================] - 0s 54ms/step - loss: 0.7492 - accuracy: 0.7273 - val_loss: 1.1343 - val_accuracy: 0.5682\n",
            "Epoch 295/300\n",
            "2/2 [==============================] - 0s 54ms/step - loss: 0.7492 - accuracy: 0.7273 - val_loss: 1.1260 - val_accuracy: 0.5909\n",
            "Epoch 296/300\n",
            "2/2 [==============================] - 0s 44ms/step - loss: 0.7442 - accuracy: 0.7273 - val_loss: 1.1265 - val_accuracy: 0.5909\n",
            "Epoch 297/300\n",
            "2/2 [==============================] - 0s 67ms/step - loss: 0.7447 - accuracy: 0.7273 - val_loss: 1.1292 - val_accuracy: 0.5909\n",
            "Epoch 298/300\n",
            "2/2 [==============================] - 0s 45ms/step - loss: 0.7428 - accuracy: 0.7273 - val_loss: 1.1268 - val_accuracy: 0.5909\n",
            "Epoch 299/300\n",
            "2/2 [==============================] - 0s 45ms/step - loss: 0.7386 - accuracy: 0.7273 - val_loss: 1.1272 - val_accuracy: 0.5909\n",
            "Epoch 300/300\n",
            "2/2 [==============================] - 0s 47ms/step - loss: 0.7423 - accuracy: 0.7273 - val_loss: 1.1377 - val_accuracy: 0.5682\n"
          ]
        },
        {
          "output_type": "execute_result",
          "data": {
            "text/plain": [
              "<keras.callbacks.History at 0x7f4d885b6940>"
            ]
          },
          "metadata": {},
          "execution_count": 29
        }
      ]
    },
    {
      "cell_type": "markdown",
      "source": [
        "### SVM with gridsearch\n",
        "Next I tried using gridsearch to tune hyperparameters for a support vector machine:"
      ],
      "metadata": {
        "id": "OxOUiJ8vdtqb"
      }
    },
    {
      "cell_type": "code",
      "source": [
        "from sklearn.svm import SVC\n",
        "\n",
        "svec = SVC(class_weight='balanced')\n",
        "\n",
        "param_grid = {'svc__C': [1,4,3,4,5],\n",
        "              'svc__gamma': [.0001, .001, 0.01,.005,.02 ],\n",
        "              'svc__kernel': ['linear','poly','rbf']\n",
        "              }\n",
        "\n",
        "svec_pipe = make_pipeline(svec)\n",
        "kfold = KFold(n_splits=8)\n",
        "grid = GridSearchCV(svec_pipe, param_grid, cv=kfold)\n",
        "\n",
        "grid.fit(preprocessor(X_train), y_train_labels)\n",
        "\n",
        "print(\"Parameters chosen:\",grid.best_params_)\n",
        "print(\"Cross validation score: {:.4f}\".format(grid.best_score_))\n",
        "grid.score(preprocessor(X_train), y_train_labels) # Fit score, 0-1 scale."
      ],
      "metadata": {
        "colab": {
          "base_uri": "https://localhost:8080/"
        },
        "id": "BvSMHUsjd40N",
        "outputId": "4fb8776d-0afd-4e57-f705-585c19b8f31b"
      },
      "execution_count": 30,
      "outputs": [
        {
          "output_type": "stream",
          "name": "stdout",
          "text": [
            "Parameters chosen: {'svc__C': 4, 'svc__gamma': 0.01, 'svc__kernel': 'rbf'}\n",
            "Cross validation score: 0.6932\n"
          ]
        },
        {
          "output_type": "execute_result",
          "data": {
            "text/plain": [
              "0.7613636363636364"
            ]
          },
          "metadata": {},
          "execution_count": 30
        }
      ]
    },
    {
      "cell_type": "markdown",
      "source": [
        "This was much less overfit, and actually seems to predict pretty well compared to the other models. The hyperparameter C changed slightly from 5 to 4 and gamma was .01. This indicates that I submitted it as model #108 but it didn't perfom well on the test data :("
      ],
      "metadata": {
        "id": "GghyBwUGe5yY"
      }
    },
    {
      "cell_type": "markdown",
      "source": [
        "I also tried a number of gradientboosting and bagging models, also more svms with a wider range of hyper-parameters to tune and none of these performed as well as the first model I tried. "
      ],
      "metadata": {
        "id": "yM_tnVpbfsTD"
      }
    },
    {
      "cell_type": "markdown",
      "source": [
        "## 2. Learning from team\n",
        "A teammate had some luck with a random forest model. It didn't do as well as my first model but did better than my other models. Perhaps I can try random forest for myself with updates to the preprocessor based on the feature selection I did with the lasso regression?"
      ],
      "metadata": {
        "id": "gv-8BJQwhQ6p"
      }
    },
    {
      "cell_type": "code",
      "source": [
        "def preprocessor(data):\n",
        "    dummies1 = pd.get_dummies(data['sub-region'], prefix='sub-region')\n",
        "    dummies2 = pd.get_dummies(data['region'], prefix='region')\n",
        "    final_df = data.join(dummies1).join(dummies2)\n",
        "    preprocessed_data = final_df[['GDP per capita', 'Social support', 'Healthy life expectancy',\n",
        "       'Freedom to make life choices', 'sub-region_Central Asia',\n",
        "       'sub-region_Northern Europe', 'sub-region_South-eastern Asia',\n",
        "       'sub-region_Southern Asia', 'sub-region_Western Europe',\n",
        "       'region_Africa', 'region_Americas', 'region_Europe']]\n",
        "    return preprocessed_data"
      ],
      "metadata": {
        "id": "-ibNlP4SkEi4"
      },
      "execution_count": 31,
      "outputs": []
    },
    {
      "cell_type": "code",
      "source": [
        "from sklearn.ensemble import RandomForestClassifier\n",
        "\n",
        "rf = RandomForestClassifier(max_features = 'sqrt', random_state=122)\n",
        "\n",
        "rf_pipe = make_pipeline(StandardScaler(),rf)\n",
        "\n",
        "kfold = KFold(n_splits=8)\n",
        "\n",
        "param_grid = {'randomforestclassifier__n_estimators': [100],\n",
        "              'randomforestclassifier__max_depth': np.arange(5, 55, 5)\n",
        "             }\n",
        "\n",
        "grid = GridSearchCV(rf_pipe, param_grid, cv=kfold)\n",
        "\n",
        "grid.fit(preprocessor(X_train), y_train_labels)\n",
        "\n",
        "print(\"Parameters chosen:\",grid.best_params_)\n",
        "print(\"Cross validation score: {:.4f}\".format(grid.best_score_))\n",
        "grid.score(preprocessor(X_train), y_train_labels) # Fit score, 0-1 scale."
      ],
      "metadata": {
        "colab": {
          "base_uri": "https://localhost:8080/"
        },
        "id": "23j2UFtxogI8",
        "outputId": "f601dad0-2391-4c16-97a1-1f4a2d01855c"
      },
      "execution_count": 32,
      "outputs": [
        {
          "output_type": "stream",
          "name": "stdout",
          "text": [
            "Parameters chosen: {'randomforestclassifier__max_depth': 10, 'randomforestclassifier__n_estimators': 100}\n",
            "Cross validation score: 0.6364\n"
          ]
        },
        {
          "output_type": "execute_result",
          "data": {
            "text/plain": [
              "1.0"
            ]
          },
          "metadata": {},
          "execution_count": 32
        }
      ]
    },
    {
      "cell_type": "markdown",
      "source": [
        "The model is definitely overfit but didn't perform badly on cross-validation, I'll submitted it to the leaderboard as model #409. Unfortunately, it didn't perform very well on the test data!"
      ],
      "metadata": {
        "id": "JHduSFa9pFvw"
      }
    },
    {
      "cell_type": "markdown",
      "source": [
        "I'm going to also try the new preprocessor with the SVM with gridsearch."
      ],
      "metadata": {
        "id": "e1crKJTe6s29"
      }
    },
    {
      "cell_type": "code",
      "source": [
        "from sklearn.svm import SVC\n",
        "\n",
        "svec = SVC(class_weight='balanced')\n",
        "\n",
        "param_grid = {\n",
        "             'svc__C': [1,4,3,4,5],\n",
        "             'svc__gamma': [.0001, .001, 0.01,.005,.02 ]\n",
        "              }\n",
        "\n",
        "svec_pipe = make_pipeline(StandardScaler(),svec)\n",
        "kfold = KFold(n_splits=8)\n",
        "grid = GridSearchCV(svec_pipe, param_grid, cv=kfold)\n",
        "\n",
        "grid.fit(preprocessor(X_train), y_train_labels)\n",
        "\n",
        "print(\"Parameters chosen:\",grid.best_params_)\n",
        "print(\"Cross validation score: {:.4f}\".format(grid.best_score_))\n",
        "grid.score(preprocessor(X_train), y_train_labels) # Fit score, 0-1 scale."
      ],
      "metadata": {
        "colab": {
          "base_uri": "https://localhost:8080/"
        },
        "id": "GnuueW_KkXEU",
        "outputId": "a77a2f0a-3d73-48b9-9a0d-d93114b34fea"
      },
      "execution_count": 33,
      "outputs": [
        {
          "output_type": "stream",
          "name": "stdout",
          "text": [
            "Parameters chosen: {'svc__C': 5, 'svc__gamma': 0.01}\n",
            "Cross validation score: 0.5909\n"
          ]
        },
        {
          "output_type": "execute_result",
          "data": {
            "text/plain": [
              "0.7045454545454546"
            ]
          },
          "metadata": {},
          "execution_count": 33
        }
      ]
    },
    {
      "cell_type": "markdown",
      "source": [
        "I submitted as model #420 and it didn't perform well either. Oh well. "
      ],
      "metadata": {
        "id": "sw3sjocQ6yO2"
      }
    },
    {
      "cell_type": "markdown",
      "source": [
        "The last thing I tried was gradient boosting with the same preprocessing as the others. I submitted this model as #691."
      ],
      "metadata": {
        "id": "u3oZrAq3MtON"
      }
    },
    {
      "cell_type": "code",
      "source": [
        "from sklearn.ensemble import GradientBoostingClassifier\n",
        "\n",
        "\n",
        "param = {'gradientboostingclassifier__n_estimators': [100,200],\n",
        "          'gradientboostingclassifier__max_depth': np.arange(1, 10, 1)\n",
        "              }\n",
        "\n",
        "kfold = KFold(n_splits=4)\n",
        "\n",
        "grid_pipe = make_pipeline(StandardScaler(),GradientBoostingClassifier(random_state=0))\n",
        "\n",
        "grid = GridSearchCV(grid_pipe,param, cv=kfold)\n",
        "\n",
        "grid.fit(preprocessor(X_train), y_train_labels)\n",
        "\n",
        "print(\"Parameters chosen:\",grid.best_params_)\n",
        "print(\"Cross validation score: {:.4f}\".format(grid.best_score_))\n",
        "grid.score(preprocessor(X_train), y_train_labels) # Fit score, 0-1 scale."
      ],
      "metadata": {
        "colab": {
          "base_uri": "https://localhost:8080/"
        },
        "id": "j8YgO-gAIm5N",
        "outputId": "48d8a711-304b-4aad-e39b-674fc92aa6b7"
      },
      "execution_count": 39,
      "outputs": [
        {
          "output_type": "stream",
          "name": "stdout",
          "text": [
            "Parameters chosen: {'gradientboostingclassifier__max_depth': 1, 'gradientboostingclassifier__n_estimators': 100}\n",
            "Cross validation score: 0.5909\n"
          ]
        },
        {
          "output_type": "execute_result",
          "data": {
            "text/plain": [
              "0.9204545454545454"
            ]
          },
          "metadata": {},
          "execution_count": 39
        }
      ]
    },
    {
      "cell_type": "markdown",
      "source": [
        "Again, this model was pretty overfit and performed similarly to the others on cross-validation. The max depth chosen was 1 with 100 estimators. The model also didn't perform very well on the test data. \n",
        "\n",
        "Based on the size of the dataset and the limited number of varialbes, I think it kind of comes down to luck with which models worked the best here. Even though certain models performed better with cross-validation, this didn't really have an impact on how well they did on the test data. The hyperparameter values didn't honestly change much between SVM models, and all models generally performed similarly despite having different hyperparameters. Perhaps if I had more time and really wanted to dig into this I would increase the range of my grid searches.\n",
        "\n",
        "I could have tried to add additional country-level variables from alternate data sources, but ultimately I ran out of time. If I have time to come back to this project I would definitely look at some potential variables maybe to do with sunlight hours, nutrition, or fertility rate."
      ],
      "metadata": {
        "id": "OGm7fyKKTmI5"
      }
    }
  ]
}
